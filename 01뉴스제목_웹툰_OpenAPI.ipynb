{
 "cells": [
  {
   "cell_type": "markdown",
   "id": "eb0bfa44",
   "metadata": {},
   "source": [
    "## 1. 뉴스제목 가져오기\n",
    "* user-agent 요청헤더를 반드시 설정해야 한다."
   ]
  },
  {
   "cell_type": "code",
   "execution_count": 1,
   "id": "f0d27781",
   "metadata": {},
   "outputs": [
    {
     "name": "stdout",
     "output_type": "stream",
     "text": [
      "Name: requests\n",
      "Version: 2.32.3\n",
      "Summary: Python HTTP for Humans.\n",
      "Home-page: https://requests.readthedocs.io\n",
      "Author: Kenneth Reitz\n",
      "Author-email: me@kennethreitz.org\n",
      "License: Apache-2.0\n",
      "Location: C:\\Users\\user\\anaconda3\\Lib\\site-packages\n",
      "Requires: certifi, charset-normalizer, idna, urllib3\n",
      "Required-by: aext-assistant-server, anaconda-auth, anaconda-catalogs, anaconda-client, anaconda-project, conda, conda-build, conda-repo-cli, conda_package_streaming, cookiecutter, datashader, jupyterlab_server, panel, requests-file, requests-toolbelt, Sphinx, streamlit, tldextract\n"
     ]
    }
   ],
   "source": [
    "# requests 라이브러리 설치여부 확인\n",
    "!pip show requests"
   ]
  },
  {
   "cell_type": "code",
   "execution_count": 2,
   "id": "f7798ea8",
   "metadata": {},
   "outputs": [
    {
     "name": "stdout",
     "output_type": "stream",
     "text": [
      "Name: beautifulsoup4\n",
      "Version: 4.12.3\n",
      "Summary: Screen-scraping library\n",
      "Home-page: https://www.crummy.com/software/BeautifulSoup/bs4/\n",
      "Author: \n",
      "Author-email: Leonard Richardson <leonardr@segfault.org>\n",
      "License: MIT License\n",
      "Location: C:\\Users\\user\\anaconda3\\Lib\\site-packages\n",
      "Requires: soupsieve\n",
      "Required-by: conda-build, nbconvert\n"
     ]
    }
   ],
   "source": [
    "# beautifulsoup4 라이브러리 설치여부 확인\n",
    "!pip show beautifulsoup4"
   ]
  },
  {
   "cell_type": "code",
   "execution_count": 4,
   "id": "bf80a429",
   "metadata": {},
   "outputs": [],
   "source": [
    "# reqeusts, bs4 import\n",
    "import requests\n",
    "# BeautifulSoup import\n",
    "import bs4\n",
    "# BeautifulSoup 클래스 import\n",
    "from bs4 import BeautifulSoup"
   ]
  },
  {
   "cell_type": "code",
   "execution_count": 5,
   "id": "9788d6ac",
   "metadata": {},
   "outputs": [
    {
     "name": "stdout",
     "output_type": "stream",
     "text": [
      "requests 버전 = 2.32.3\n",
      "bs4 버전 = 4.12.3\n"
     ]
    }
   ],
   "source": [
    "# requests, bs4 버전 확인하기\n",
    "print(f'requests 버전 = {requests.__version__}')\n",
    "print(f'bs4 버전 = {bs4.__version__}')"
   ]
  },
  {
   "cell_type": "markdown",
   "id": "ccb91def-cde3-4aeb-b0e5-2e7233500333",
   "metadata": {},
   "source": [
    "### 1. 뉴스 제목 추출하기"
   ]
  },
  {
   "cell_type": "code",
   "execution_count": 13,
   "id": "94c12fd6",
   "metadata": {},
   "outputs": [
    {
     "name": "stdout",
     "output_type": "stream",
     "text": [
      "https://news.naver.com/section/105\n",
      "200 True\n",
      "<class 'requests.models.Response'>\n",
      "<Response [200]>\n",
      "44\n",
      "<class 'bs4.element.ResultSet'>\n",
      "1 네이버클라우드, '하이퍼클로바X' 추론모델 오픈소스 공개 https://n.news.naver.com/mnews/article/648/0000038110\n",
      "2 갤럭시Z 플립7·폴드7 국내 사전판매량 ‘104만대’ 역대 최대 https://n.news.naver.com/mnews/article/081/0003559935\n",
      "3 국내 독자 LLM 보유 기업 솔트룩스, KT와 공동 개발 나서 https://n.news.naver.com/mnews/article/032/0003384576\n",
      "4 “AI 검색, 진짜 맛집 찾아낸다”… 라이너, BC카드와 결제 데이터 융합 https://n.news.naver.com/mnews/article/018/0006070804\n",
      "5 ‘K-AI휴머노이드’ 개발…출연연·대학·기업 어벤져스 ‘전략연구단’ 떴다 https://n.news.naver.com/mnews/article/016/0002503305\n",
      "6 공공 사업 확장 승부수…폴라리스오피스, 공공SW 강자 핸디소프트 인수[IT클로즈업] https://n.news.naver.com/mnews/article/138/0002201121\n",
      "7 최휘영 “게임이용장애 도입 신중해야… P2E는 시기상조” https://n.news.naver.com/mnews/article/005/0001791308\n",
      "8 한국만화가협회·한국웹툰작가협회, 日 정부에 ‘뉴토끼’ 운영자 송환 촉구 서명 운동 https://n.news.naver.com/mnews/article/092/0002383094\n",
      "9 한국형 AI 휴머노이드 키는 160cm에 체중 55kg…브레인은 대·소뇌로 분리 https://n.news.naver.com/mnews/article/092/0002383097\n",
      "10 “이러다 쫄딱 망한다!” 넷플릭스발 충격 사태에…티빙 ‘발칵’ https://n.news.naver.com/mnews/article/016/0002503435\n",
      "11 핸디소프트, 최대주주 폴라리스AI로 바뀐다 https://n.news.naver.com/mnews/article/030/0003334191\n",
      "12 단통법 오늘 폐지…이통사 보조금 전쟁 시작되나 https://n.news.naver.com/mnews/article/056/0011994013\n",
      "13 항우연-한화 누리호 기술이전 협상 타결 임박... 민간 로켓시장 확대 기대 https://n.news.naver.com/mnews/article/469/0000877468\n",
      "14 단통법 폐지 첫날, 소비자도 '성지'도 고요했다 [르포] https://n.news.naver.com/mnews/article/469/0000877461\n",
      "15 [단독] 한화에어로, 누리호 기술 100% 전수받는다…우협대상 선정 3년여만 https://n.news.naver.com/mnews/article/009/0005529453\n",
      "16 “동물 보호 외치면서 ‘뱀가죽’ 지갑?” 이런 게 수두룩…놀라운 ‘반전’ 알고 보니 [지구, 뭐래?] https://n.news.naver.com/mnews/article/016/0002503417\n",
      "17 현대카드 없어도 아이폰으로 교통카드 기능 '삑'…직접 써보니 https://n.news.naver.com/mnews/article/277/0005626419\n",
      "18 비만치료제, 끊으면 어김없이 '요요' 온다... \"중단 두 달 지나자 체중 증가\" https://n.news.naver.com/mnews/article/469/0000877452\n",
      "19 '사전판매 104만대' 갤럭시Z 시리즈 새 기록 썼다 https://n.news.naver.com/mnews/article/014/0005380893\n",
      "20 고동진 의원도 “잘 돌아가더라”… LG 엑사원, 퓨리오사AI ‘레니게이드’ 도입 https://n.news.naver.com/mnews/article/018/0006071455\n",
      "21 한산한 휴대폰 매장… ‘공짜폰’ 기대한 손님들 발길 돌려 [단통법 폐지 첫날] https://n.news.naver.com/mnews/article/014/0005380884\n",
      "22 “200% 관세 부과” 트럼프 경고에 움직인 글로벌 제약사들…대규모 투자로 대응 https://n.news.naver.com/mnews/article/029/0002970156\n",
      "23 美·中 관세 전쟁에 브라질 주목받는 까닭 https://n.news.naver.com/mnews/article/020/0003649650\n",
      "24 출고가 164만원 플립7이 9만원…단통법 폐지 첫날 '성지' 가보니 [팩플] https://n.news.naver.com/mnews/article/025/0003456896\n",
      "25 알트먼-손정의 '660조 동맹' 이상기류…오픈AI, 독자노선 걷는다 https://n.news.naver.com/mnews/article/092/0002383093\n",
      "26 신재호 디엔에프 대표 “한국의 반도체 패권, 계속될 거란 보장 어디에도 없다” https://n.news.naver.com/mnews/article/009/0005529412\n",
      "27 '2034년 36조' P2E 시장 급성장에도…사행성 낙인에 해외로 떠나는 K게임 https://n.news.naver.com/mnews/article/011/0004512257\n",
      "28 게임, K콘텐츠 주역인데…일자리 8만개 사라질 수도 있다고? https://n.news.naver.com/mnews/article/011/0004512256\n",
      "29 [비즈톡톡] 690조 AI 프로젝트 ‘스타게이트’, 오픈AI·소프트뱅크 갈등에 시작부터 난항 https://n.news.naver.com/mnews/article/366/0001094705\n",
      "30 [상법개정안 여파]하이브, '주주충실 의무'에 뉴진스 활동 재개 숙제 https://n.news.naver.com/mnews/article/293/0000070125\n",
      "31 전기 감지하는 헬멧으로 적 알아보는 '나무매미' https://n.news.naver.com/mnews/article/584/0000033509\n",
      "32 K-반도체 中企에 '3개의 사다리' 놓아달라 https://n.news.naver.com/mnews/article/009/0005529349\n",
      "33 65년 언론 DNA와 아마존 AI의 결합…'뉴스의 미래'를 다시 쓰다 https://n.news.naver.com/mnews/article/011/0004512230\n",
      "34 AI가 뚫고 막는 시대…정부 '사이버 방패' 꺼낸다 https://n.news.naver.com/mnews/article/011/0004512222\n",
      "35 '美 지니어스 액트' 다음은? 홍콩, 내달 스테이블코인 발행 [코인브리핑] https://n.news.naver.com/mnews/article/014/0005380817\n",
      "36 [나는 K-AI다] 5팀만 생존... 한국 AI 정예팀 서바이벌, 관전 포인트는? https://n.news.naver.com/mnews/article/138/0002201158\n",
      "37 \"게임은 정신적 아편\"이라던 中, 이젠 '소프트파워'로 키운다 https://n.news.naver.com/mnews/article/011/0004512201\n",
      "38 \"150만원짜리 폰이 6만원\"…조용히 시작된 '할인 국지전' https://n.news.naver.com/mnews/article/011/0004512195\n",
      "39 챗GPT, 하루 쿼리 25억건…구글 검색 위협 https://n.news.naver.com/mnews/article/366/0001094684\n",
      "40 네오플 노사 갈등 입장 '평행선'…파업 장기화에 이용자 반발 https://n.news.naver.com/mnews/article/138/0002201156\n",
      "41 폴라리스오피스그룹, 핸디소프트 500억에 인수..공공기관 SW 진출 https://n.news.naver.com/mnews/article/018/0006071240\n",
      "42 단통법 폐지 첫날⋯휴대폰 집단상가 문 닫고, 이통사는 '눈치 게임' https://n.news.naver.com/mnews/article/031/0000950855\n",
      "43 소비쿠폰 중고거래 불법…정부 \"적발 시 전액 환수·형사처벌\" https://n.news.naver.com/mnews/article/092/0002383089\n",
      "44 바둑 이어 탁구…'피지컬 AI'까지 노리는 딥마인드 https://n.news.naver.com/mnews/article/015/0005161266\n"
     ]
    }
   ],
   "source": [
    "# IT/과학 뉴스 \n",
    "req_param = {\n",
    "    'sid': 105\n",
    "}\n",
    "url = 'https://news.naver.com/section/{sid}'.format(**req_param)\n",
    "print(url)\n",
    "\n",
    "# 요청 헤더 설정 : 브라우저 정보\n",
    "req_header = {\n",
    "    \"user-agent\": \"Mozilla/5.0 (Windows NT 10.0; Win64; x64) AppleWebKit/537.36 (KHTML, like Gecko) Chrome/104.0.0.0 Safari/537.36\"\n",
    "}\n",
    "\n",
    "# requests 의 get() 함수 호출하기 \n",
    "res=requests.get(url,headers=req_header)\n",
    "print(res.status_code, res.ok)\n",
    "print(type(res))\n",
    "print(res)\n",
    "\n",
    "# 응답(response)이 OK 이면\n",
    "# 응답 (response)에서 text 추출\n",
    "if res.ok:\n",
    "    html = res.text\n",
    "    # BeautifulSoup 객체 생성\n",
    "    soup = BeautifulSoup(html, \"html.parser\")   \n",
    "    #print(soup)\n",
    "    # CSS 선택자\n",
    "    # print(soup.select(\"div.sa_text a[href*='mnews/article']\"))\n",
    "    '''\n",
    "       <div class='sa_text'> \n",
    "          <a href=\"https://n.news.naver.com/mnews/article/032/0003384576\" class=\"sa_text_title\">\n",
    "    '''\n",
    "    a_tags = soup.select(\"div.sa_text a[href*='https://n.news.naver.com/mnews/article'].sa_text_title\")\n",
    "    print(len(a_tags))\n",
    "    print(type(a_tags)) #[Tag,Tag,Tag]\n",
    "    # <a> 태그 리스트 순회하기\n",
    "    for idx,a_tag in enumerate(a_tags,1):        \n",
    "        if a_tag.text:\n",
    "            title = a_tag.text.strip() # 제목\n",
    "            link = a_tag['href'] # 링크\n",
    "            #print(len(title))\n",
    "            print(f'{idx} {title} {link}')\n",
    "else:\n",
    "    # 응답(response)이 Error 이면 status code 출력    \n",
    "    print(f'Error Code = {res.status_code}') \n",
    "\n"
   ]
  },
  {
   "cell_type": "markdown",
   "id": "45640860-a449-4285-90d7-5f300292b461",
   "metadata": {},
   "source": [
    "### 1.1 뉴스제목 추출하는 함수 선언하기"
   ]
  },
  {
   "cell_type": "code",
   "execution_count": 10,
   "id": "9f2e4ef8",
   "metadata": {},
   "outputs": [],
   "source": [
    "import requests\n",
    "from bs4 import BeautifulSoup\n",
    "\n",
    "#section_dict = {100:'정치',101:'경제',102:'사회',103:'생활/문화',104:'세계',105:'IT/과학'}\n",
    "section_dict = {'정치':100,'경제':101,'사회':102,'생활/문화':103,'세계':104,'IT/과학':105}\n",
    "\n",
    "def print_news(section):  #print_new(103,'생활/문화') \n",
    "    sid = section_dict[section]\n",
    "    url = f'https://news.naver.com/section/{sid}'\n",
    "    print(f'{url} {section} 뉴스')\n",
    "\n",
    "    # 요청 헤더 설정 : 브라우저 정보\n",
    "    req_header = {\n",
    "        \"user-agent\": \"Mozilla/5.0 (Windows NT 10.0; Win64; x64) AppleWebKit/537.36 (KHTML, like Gecko) Chrome/104.0.0.0 Safari/537.36\"\n",
    "    }\n",
    "    # requests 의 get() 함수 호출하기 \n",
    "    res=requests.get(url,headers=req_header)\n",
    "    print(res.status_code, res.ok)\n",
    "    if res.ok:\n",
    "        html = res.text\n",
    "        # BeautifulSoup 객체 생성\n",
    "        soup = BeautifulSoup(html, \"html.parser\")\n",
    "        a_tags = soup.select(\"div.sa_text a[href*='https://n.news.naver.com/mnews/article'].sa_text_title\")\n",
    "        print(len(a_tags))\n",
    "        # <a> 태그 리스트 순회하기\n",
    "        for idx,a_tag in enumerate(a_tags,1):        \n",
    "            if a_tag.text:\n",
    "                title = a_tag.text.strip() # 제목\n",
    "                link = a_tag['href'] # 링크\n",
    "                #print(len(title))\n",
    "                print(f'{idx} {title} {link}')\n",
    "    else:\n",
    "        # 응답(response)이 Error 이면 status code 출력    \n",
    "        print(f'Error Code = {res.status_code}')       \n",
    "    "
   ]
  },
  {
   "cell_type": "code",
   "execution_count": 11,
   "id": "858952c6",
   "metadata": {},
   "outputs": [
    {
     "name": "stdout",
     "output_type": "stream",
     "text": [
      "https://news.naver.com/section/104 세계 뉴스\n",
      "200 True\n",
      "46\n",
      "1 참의원 선거 우익 돌풍 속 자민당 참패…셔틀외교 차질? https://n.news.naver.com/mnews/article/055/0001277248\n",
      "2 스텔란티스, 트럼프 관세 충격 등에 상반기 3조원 손실 예고 https://n.news.naver.com/mnews/article/018/0006070607\n",
      "3 트럼프 스코틀랜드 순방 취재에 WSJ 제외…‘외설편지 보도’ 뒤끝 논란 https://n.news.naver.com/mnews/article/025/0003456748\n",
      "4 ‘브렉시트의 대가?’… 英에 ‘유럽 무기 공동조달’ 참가비 부과 https://n.news.naver.com/mnews/article/021/0002724444\n",
      "5 “200% 관세 부과” 트럼프 경고에 움직인 글로벌 제약사들…대규모 투자로 대응 https://n.news.naver.com/mnews/article/029/0002970156\n",
      "6 유엔 사무총장 \"가자 생명줄 붕괴…지금이 휴전할 때\" https://n.news.naver.com/mnews/article/003/0013376472\n",
      "7 트럼프 행정부, 마틴 루서 킹 목사 암살 FBI 기록 공개 https://n.news.naver.com/mnews/article/660/0000089490\n",
      "8 방글라데시서 공군 훈련기 학교에 추락…최소 19명 사망 https://n.news.naver.com/mnews/article/015/0005160884\n",
      "9 JP모건, 비트코인 담보 대출 검토… 월가, 가상자산 빗장 푸나 https://n.news.naver.com/mnews/article/366/0001094638\n",
      "10 中 \"인터넷 보급률 79.7%…AI는 연 20% 성장세\"(종합) https://n.news.naver.com/mnews/article/003/0013378333\n",
      "11 \"美, 17년 만에 영국에 핵무기 배치한 듯\" https://n.news.naver.com/mnews/article/001/0015523293\n",
      "12 “이 나라가 부러운 점도 있네”...AI 열풍속 이공계 선호 ‘뚜렷’한 중국, 의대 인기는 급락 https://n.news.naver.com/mnews/article/009/0005529463\n",
      "13 동일본대지진 이후 첫 日신설 원전, 신형 경수로 도입 추진 https://n.news.naver.com/mnews/article/001/0015523274\n",
      "14 중국 항저우 ‘악취 수돗물’ 난린데…“유언비어 유포자 구류” https://n.news.naver.com/mnews/article/016/0002503421\n",
      "15 '美에 더 가까이' 필리핀, '中과 군사 밀착' 베트남… 엇갈리는 외교 전략 https://n.news.naver.com/mnews/article/469/0000877464\n",
      "16 이시바 선거참패에도 버티자…“#총리 퇴진 요구” SNS 운동 확산 https://n.news.naver.com/mnews/article/020/0003649652\n",
      "17 14조 소송 이어 취재 배제...이번엔 WSJ와 전쟁 https://n.news.naver.com/mnews/article/052/0002222971\n",
      "18 ‘아베파 줄낙마’ 원톱 파벌 사라진 자민당… 이시바 버티기 https://n.news.naver.com/mnews/article/005/0001791318\n",
      "19 하필 지금 꺼낸 ‘킹 목사’ 암살 문건… ‘엡스타인 덮기용’ 의혹 [뉴스 투데이] https://n.news.naver.com/mnews/article/022/0004053849\n",
      "20 “벽화 하나로 집값 3억 뛰었다”…英 런던의 놀라운 동네 https://n.news.naver.com/mnews/article/081/0003559942\n",
      "21 \"美·필리핀 안보동맹 태평양 어디서든 적용\" https://n.news.naver.com/mnews/article/009/0005529434\n",
      "22 트럼프의 AI 야심작 반년째 제자리걸음 https://n.news.naver.com/mnews/article/009/0005529433\n",
      "23 이란 \"유럽 제재복원? 법적 근거 없어…핵농축 멈추지 않을 것\" https://n.news.naver.com/mnews/article/008/0005225366\n",
      "24 선거 참패 뒤 미국 간 일본, 관세 협상에 사활 걸렸지만... https://n.news.naver.com/mnews/article/469/0000877442\n",
      "25 트럼프 '50일 압박' 영향?…러·우크라 \"이번 주 3차 협상\" https://n.news.naver.com/mnews/article/469/0000877441\n",
      "26 日 자민당 지각변동…'이시바 정적' 아소, 존재감 커졌다 https://n.news.naver.com/mnews/article/015/0005161329\n",
      "27 콜드플레이 콘서트서 '불륜 포착'…CEO는 잘렸지만, 회사는 세계적 '떡상' https://n.news.naver.com/mnews/article/011/0004512245\n",
      "28 '230조' 中 슈퍼 프로젝트 뭐길래…\"괴물 같다\" 갈등 폭발 https://n.news.naver.com/mnews/article/015/0005161306\n",
      "29 트럼프발 관세 폭탄에도 세계 경제 순항…'깜짝 회복력' https://n.news.naver.com/mnews/article/055/0001277535\n",
      "30 인도 부통령 돌연 사임···‘건강상 이유’ vs ‘정부 압력’ https://n.news.naver.com/mnews/article/032/0003384574\n",
      "31 물러날 생각없다는 이시바에 자민당 '리콜' 초강수 두나 https://n.news.naver.com/mnews/article/011/0004512211\n",
      "32 美 견제 급한 中·EU…'희토류 - 전기차 빅딜' 나오나 https://n.news.naver.com/mnews/article/011/0004512207\n",
      "33 이시바 ‘버티기’에 불붙은 ‘퇴진론’···“리콜 규정이라도 써야” https://n.news.naver.com/mnews/article/032/0003384567\n",
      "34 “카공족 대환영” ‘이 나라’ 스타벅스, ‘자습실’ 열었다 https://n.news.naver.com/mnews/article/081/0003559913\n",
      "35 세계 4위 자동차도 '관세 쇼크'…3조원대 순손실 https://n.news.naver.com/mnews/article/422/0000762590\n",
      "36 \"신이 택한 美의 악인 제거\"…부시, 이라크戰 '신성한 전쟁'이라 믿어 https://n.news.naver.com/mnews/article/421/0008385797\n",
      "37 트럼프 관세 폭탄에도 순항…세계 경제 '깜짝 회복력' https://n.news.naver.com/mnews/article/001/0015523056\n",
      "38 푸틴이 만든 비극…“러시아 군인 최소 12만 명 사망” 사상자 모두 합치면?  [핫이슈] https://n.news.naver.com/mnews/article/081/0003559908\n",
      "39 중국·EU 화해할 수 없는 ‘우크라 문제’…정상회담 이틀 앞두고 중국 측 불만 쏟아내 https://n.news.naver.com/mnews/article/032/0003384556\n",
      "40 동북아 안보에서 소외되는 한국, 자칫 낙동강 오리알 될라 https://n.news.naver.com/mnews/article/088/0000960433\n",
      "41 승무원 면접 보며 \"기내 성적인 파티 참여했으면\"…美 슈퍼리치들의 민낯 https://n.news.naver.com/mnews/article/277/0005626382\n",
      "42 믿지 않는 시장, 대담해질 트럼프…\"이제 진짜 늑대가 나타난다\" https://n.news.naver.com/mnews/article/008/0005225292\n",
      "43 수면 아래 들끓는 ‘이시바 오로시’?…아소 “총리 유임 인정 못해” https://n.news.naver.com/mnews/article/081/0003559896\n",
      "44 \"수돗물에서 시체 냄새 나\"...난리 난 중국, 생수 사재기 대란까지 [지금이뉴스] https://n.news.naver.com/mnews/article/052/0002222914\n",
      "45 IMF 수석 부총재 물러난다…후임은 트럼프 손에 https://n.news.naver.com/mnews/article/029/0002970105\n",
      "46 정권 명운 걸고 무작정 美 찾은 日 관세담당 장관…전망은 불투명 https://n.news.naver.com/mnews/article/022/0004053819\n"
     ]
    }
   ],
   "source": [
    "print_news('세계')"
   ]
  },
  {
   "cell_type": "markdown",
   "id": "323196dc",
   "metadata": {},
   "source": [
    "### 2. Image 다운로드\n",
    "* referer 요청 헤더를 반드시 설정해야 한다."
   ]
  },
  {
   "cell_type": "code",
   "execution_count": 1,
   "id": "c72d6cb1",
   "metadata": {},
   "outputs": [
    {
     "name": "stdout",
     "output_type": "stream",
     "text": [
      "True 200\n",
      "Writing to 20250623151113_4a032791c141c6f022bdc38c218efdf2_IMAG01_1.jpg(110,240 bytes)\n",
      "True 200\n",
      "Writing to 20250623151113_4a032791c141c6f022bdc38c218efdf2_IMAG01_2.jpg(157,933 bytes)\n",
      "True 200\n",
      "Writing to 20250623151113_4a032791c141c6f022bdc38c218efdf2_IMAG01_3.jpg(143,514 bytes)\n"
     ]
    }
   ],
   "source": [
    "import requests\n",
    "import os\n",
    "\n",
    "req_header = {\n",
    "    'referer':'https://comic.naver.com/webtoon/detail?titleId=835751&no=24&week=tue',\n",
    "    \"user-agent\": \"Mozilla/5.0 (Windows NT 10.0; Win64; x64) AppleWebKit/537.36 (KHTML, like Gecko) Chrome/104.0.0.0 Safari/537.36\"\n",
    "}\n",
    "\n",
    "img_urls = [\n",
    "    'https://image-comic.pstatic.net/webtoon/835751/24/20250623151113_4a032791c141c6f022bdc38c218efdf2_IMAG01_1.jpg',\n",
    "    'https://image-comic.pstatic.net/webtoon/835751/24/20250623151113_4a032791c141c6f022bdc38c218efdf2_IMAG01_2.jpg',\n",
    "    'https://image-comic.pstatic.net/webtoon/835751/24/20250623151113_4a032791c141c6f022bdc38c218efdf2_IMAG01_3.jpg'\n",
    "]\n",
    "\n",
    "for img_url in img_urls:\n",
    "    # requests 의 get(url, headers) 함수 호출하기 \n",
    "    res = requests.get(img_url,headers=req_header)\n",
    "    print(res.ok, res.status_code)\n",
    "    if res.ok:      \n",
    "        # binary 응답 데이터 가져오기\n",
    "        img_data = res.content\n",
    "        # url에서 파일명만 추출하기\n",
    "        file_name = os.path.basename(img_url)\n",
    "        # binday data를 file에 write하기\n",
    "        with open(file_name, 'wb') as file:\n",
    "            print(f'Writing to {file_name}({len(img_data):,} bytes)')\n",
    "            file.write(img_data)\n"
   ]
  },
  {
   "cell_type": "markdown",
   "id": "e8b00a04",
   "metadata": {},
   "source": [
    "* 현재 요청된 페이지의 image 모두 다운로드 해보기"
   ]
  },
  {
   "cell_type": "code",
   "execution_count": null,
   "id": "b30f7bf5",
   "metadata": {},
   "outputs": [
    {
     "name": "stdout",
     "output_type": "stream",
     "text": [
      "200\n",
      "88\n",
      "88\n",
      "62\n"
     ]
    }
   ],
   "source": [
    "import requests\n",
    "from bs4 import BeautifulSoup\n",
    "import os\n",
    "\n",
    "webtoon_url = 'https://comic.naver.com/webtoon/detail?titleId=835751&no=24&week=tue'\n",
    "req_header = {\n",
    "    'referer':webtoon_url,\n",
    "    \"user-agent\": \"Mozilla/5.0 (Windows NT 10.0; Win64; x64) AppleWebKit/537.36 (KHTML, like Gecko) Chrome/104.0.0.0 Safari/537.36\"\n",
    "}\n",
    "res = requests.get(webtoon_url)\n",
    "print(res.status_code)\n",
    "if res.ok:\n",
    "    soup = BeautifulSoup(res.text, 'html.parser')\n",
    "    print(len(soup.select(\"img[src$='.jpg']\")))\n",
    "    #https://image-comic.pstatic.net/webtoon\n",
    "    print(len(soup.select(\"img[src^='https://image-comic.pstatic.net/webtoon']\")))\n",
    "    print(len(soup.select(\"img[src*='IMAG01']\"))) # 일치함\n",
    "    # img src file명을 저장할 list 선언\n",
    "    img_url_list = list() #['http://xxx/aa.jpg']\n",
    "    img_tags = soup.select(\"img[src*='IMAG01']\") #img_tags의 타입은 Resultset [Tag,Tag,]\n",
    "    for img_tag in img_tags: #img_tag 의 타입은 Tag <img>\n",
    "        img_url = img_tag['src']\n",
    "        img_url_list.append(img_url)\n",
    "    #print(len(img_url_list), img_url_list[0:2])\n",
    "\n",
    "    # img 디렉토리가 없으면 생성하기\n",
    "    imgdir_name = 'img'\n",
    "    if not os.path.isdir(imgdir_name):\n",
    "        os.mkdir(imgdir_name)\n",
    "\n",
    "    for jpg_url in img_url_list:\n",
    "        res = requests.get(jpg_url, headers=req_header)\n",
    "        if res.ok:\n",
    "            # binary data 추출하기\n",
    "            img_data = res.content\n",
    "            # img/xxx.jpg 디렉토리명과 jpg파일명을 join\n",
    "            dir_name = os.path.join(imgdir_name, os.path.basename(jpg_url))\n",
    "        else:\n",
    "            print(f'Error Code = {res.status_code}')"
   ]
  },
  {
   "cell_type": "markdown",
   "id": "2ac9f5f9",
   "metadata": {},
   "source": [
    "### 3. 파일 업로드 하기\n",
    "* http://httpbin.org/post 업로드 요청을 할 수 있는 url"
   ]
  },
  {
   "cell_type": "code",
   "execution_count": null,
   "id": "04da4790",
   "metadata": {},
   "outputs": [
    {
     "name": "stdout",
     "output_type": "stream",
     "text": [
      "200\n"
     ]
    }
   ],
   "source": [
    "import requests\n",
    "\n",
    "upload_files = {\n",
    "    \n",
    "}\n",
    "#print(upload_files)\n",
    "\n",
    "url = 'http://httpbin.org/post'\n",
    "# file 업로드 하려면 requests의 post 함수에 files 속성을 사용합니다.\n",
    "\n"
   ]
  },
  {
   "cell_type": "markdown",
   "id": "7ad65f12",
   "metadata": {},
   "source": [
    "### 4. 캡챠(이미지) API 호출하기\n",
    "* urllib 사용\n",
    "* 1. 캡차 키 발급 요청\n",
    "  2. 캡차 이미지 요청\n",
    "  3. 사용자 입력값 검증 요청"
   ]
  },
  {
   "cell_type": "code",
   "execution_count": null,
   "id": "bc4ae360-e772-4873-8642-d3494edd34e1",
   "metadata": {},
   "outputs": [],
   "source": [
    "# 캡차 키 발급 요청\n"
   ]
  },
  {
   "cell_type": "code",
   "execution_count": null,
   "id": "7b95b6a0-c218-4792-82a6-da4d80872071",
   "metadata": {},
   "outputs": [],
   "source": [
    "# 캡차 이미지 요청\n"
   ]
  },
  {
   "cell_type": "code",
   "execution_count": null,
   "id": "a79076af-2cd0-4de2-8301-316b9130c55e",
   "metadata": {},
   "outputs": [],
   "source": [
    "#  사용자 입력값 검증 요청\n",
    "\n"
   ]
  },
  {
   "cell_type": "markdown",
   "id": "b7d984a6",
   "metadata": {},
   "source": [
    "* requests를 사용하는 코드로 변경하기\n",
    "* [requests docs](https://requests.readthedocs.io/en/latest/user/quickstart/)"
   ]
  },
  {
   "cell_type": "code",
   "execution_count": null,
   "id": "727b427b",
   "metadata": {
    "scrolled": true
   },
   "outputs": [
    {
     "name": "stdout",
     "output_type": "stream",
     "text": [
      "Error Code: 403\n"
     ]
    }
   ],
   "source": [
    "# 사용자 입력값 검증 요청\n",
    "\n"
   ]
  },
  {
   "cell_type": "markdown",
   "id": "d5e1179a",
   "metadata": {},
   "source": [
    "### 5. 블로그 검색하기"
   ]
  },
  {
   "cell_type": "code",
   "execution_count": null,
   "id": "877d0c7f",
   "metadata": {},
   "outputs": [],
   "source": [
    "import requests\n",
    "import pprint\n",
    "\n",
    "headers = {\n",
    "    'X-Naver-Client-Id': '',\n",
    "    'X-Naver-Client-Secret': '',\n",
    "}\n",
    "\n",
    "payload = {\n",
    "    'query': '파이썬',\n",
    "    'display': 100,\n",
    "    'sort': 'sim'\n",
    "}\n",
    "\n",
    "url = 'https://openapi.naver.com/v1/search/blog.json'\n",
    "\n",
    "\n",
    "# requests get(url, params, headers) 요청 \n",
    "\n",
    "# json() 함수로 응답 결과 가져오오기\n",
    "# 'title' , 'bloggername' , 'description' , 'bloggerlink' , 'link'\n",
    "\n",
    "# 'data/nhnblog.txt' 파일 생성하기\n"
   ]
  }
 ],
 "metadata": {
  "kernelspec": {
   "display_name": "base",
   "language": "python",
   "name": "python3"
  },
  "language_info": {
   "codemirror_mode": {
    "name": "ipython",
    "version": 3
   },
   "file_extension": ".py",
   "mimetype": "text/x-python",
   "name": "python",
   "nbconvert_exporter": "python",
   "pygments_lexer": "ipython3",
   "version": "3.12.7"
  }
 },
 "nbformat": 4,
 "nbformat_minor": 5
}
