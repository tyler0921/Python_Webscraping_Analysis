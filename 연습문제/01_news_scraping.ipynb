{
 "cells": [
  {
   "cell_type": "code",
   "execution_count": 2,
   "id": "6bf2fe01",
   "metadata": {},
   "outputs": [
    {
     "name": "stdout",
     "output_type": "stream",
     "text": [
      "Name: requests\n",
      "Version: 2.32.3\n",
      "Summary: Python HTTP for Humans.\n",
      "Home-page: https://requests.readthedocs.io\n",
      "Author: Kenneth Reitz\n",
      "Author-email: me@kennethreitz.org\n",
      "License: Apache-2.0\n",
      "Location: C:\\Users\\user\\anaconda3\\Lib\\site-packages\n",
      "Requires: certifi, charset-normalizer, idna, urllib3\n",
      "Required-by: aext-assistant-server, anaconda-auth, anaconda-catalogs, anaconda-client, anaconda-project, conda, conda-build, conda-repo-cli, conda_package_streaming, cookiecutter, datashader, jupyterlab_server, panel, requests-file, requests-toolbelt, Sphinx, streamlit, tldextract\n"
     ]
    }
   ],
   "source": [
    "!pip show requests"
   ]
  },
  {
   "cell_type": "code",
   "execution_count": 3,
   "id": "41b05276",
   "metadata": {},
   "outputs": [
    {
     "name": "stdout",
     "output_type": "stream",
     "text": [
      "Name: beautifulsoup4\n",
      "Version: 4.12.3\n",
      "Summary: Screen-scraping library\n",
      "Home-page: https://www.crummy.com/software/BeautifulSoup/bs4/\n",
      "Author: \n",
      "Author-email: Leonard Richardson <leonardr@segfault.org>\n",
      "License: MIT License\n",
      "Location: C:\\Users\\user\\anaconda3\\Lib\\site-packages\n",
      "Requires: soupsieve\n",
      "Required-by: conda-build, nbconvert\n"
     ]
    }
   ],
   "source": [
    "!pip show beautifulsoup4"
   ]
  },
  {
   "cell_type": "code",
   "execution_count": 4,
   "id": "ddff47f1",
   "metadata": {},
   "outputs": [],
   "source": [
    "import requests\n",
    "import bs4\n",
    "from bs4 import BeautifulSoup"
   ]
  },
  {
   "cell_type": "code",
   "execution_count": 5,
   "id": "458795ed",
   "metadata": {},
   "outputs": [
    {
     "name": "stdout",
     "output_type": "stream",
     "text": [
      "requests 버전 = 2.32.3\n",
      "bs4 버전 = 4.12.3\n"
     ]
    }
   ],
   "source": [
    "print(f'requests 버전 = {requests.__version__}')\n",
    "print(f'bs4 버전 = {bs4.__version__}')"
   ]
  },
  {
   "cell_type": "code",
   "execution_count": 51,
   "id": "133471a3",
   "metadata": {},
   "outputs": [
    {
     "name": "stdout",
     "output_type": "stream",
     "text": [
      "https://news.daum.net/economy\n",
      "200 True\n",
      "<class 'requests.models.Response'>\n",
      "<Response [200]>\n",
      "9\n",
      "<class 'bs4.element.ResultSet'>\n",
      "1 韓 반도체는 깨어날 줄 모르고 [AI 칩 전쟁…한국은 없다?] 세계 인공지능(AI) 칩 산업을 엔비디아가 사실상 장악한 가운데, 국내 기업은 갈 길이 멀다는 지적이 쏟아진다. 리벨리온과 퓨리오사AI 같은 팹리스(Fabless·반도체 설계) 업체가 대만 TSMC 등 파운드리 업체를 통해 AI 반도체 신경망처리장치(NPU)를 제조 중이지만, 빅테크와는 비교 불가다. 특히, 국내 AI 산업은 생태계 전반을 포괄적으로 아우르 매경이코노미 1시간 전 https://v.daum.net/v/20250722210317765\n",
      "2 소비쿠폰 쓰려다가 '화들짝'…\"여기서는 못써요\" 응답에 '당황'한 소비자 아시아경제 2시간 전 https://v.daum.net/v/20250722204242273\n",
      "3 ‘해수부 부산 시대’ 조선·해양플랜트까지 업무 넓혀야 부산일보 2시간 전 https://v.daum.net/v/20250722202007801\n",
      "4 동영상     [이슈대담] “2040년 석탄화력발전소 폐쇄…신재생 에너지 전환” KBS 2시간 전 https://v.daum.net/v/20250722200357366\n",
      "5 경제통상 외교수장들, 대거 미국행... 관세 타결·한미정상회담 열릴까 오마이뉴스 3시간 전 https://v.daum.net/v/20250722190900992\n",
      "6 퇴근하면 시작된다...유통업계 다시 불붙은 '6시 쇼핑' 전쟁 중앙일보 4시간 전 https://v.daum.net/v/20250722185103483\n",
      "7 “자율주행, 이동약자 지원하는 ‘공공성’에 초점 맞춰야” 한겨레 4시간 전 https://v.daum.net/v/20250722183143976\n",
      "8 꾸준히 강세 흐름 보이는 메이저 알트코인들 : 코리안 크립토 위클리 [INFCL 리서치] 한국경제 4시간 전 https://v.daum.net/v/20250722181057244\n",
      "9 세계시장 제패한 K뷰티·푸드…'첨단' 아니라며 R&D지원은 쥐꼬리 한국경제 4시간 전 https://v.daum.net/v/20250722175548581\n"
     ]
    }
   ],
   "source": [
    "req_param = {\n",
    "    'sid': \"economy\"\n",
    "}\n",
    "url = 'https://news.daum.net/{sid}'.format(**req_param)\n",
    "print(url)\n",
    "\n",
    "req_header = {\n",
    "    \"user-agent\": \"Mozilla/5.0 (Windows NT 10.0; Win64; x64) AppleWebKit/537.36 (KHTML, like Gecko) Chrome/138.0.0.0 Safari/537.36\"\n",
    "}\n",
    "\n",
    "res=requests.get(url,headers=req_header)\n",
    "print(res.status_code, res.ok)\n",
    "print(type(res))\n",
    "print(res)\n",
    "\n",
    "if res.ok:\n",
    "    res.encoding = 'utf-8'\n",
    "    html = res.text\n",
    "    soup = BeautifulSoup(html, \"html.parser\")   \n",
    "    a_tags = soup.select(\"a.item_newsheadline2\")\n",
    "    print(len(a_tags))\n",
    "    print(type(a_tags))\n",
    "    for idx,a_tag in enumerate(a_tags,1):        \n",
    "        if a_tag.text:\n",
    "            title = a_tag.text.strip() \n",
    "            link = a_tag['href']\n",
    "            print(f'{idx} {title} {link}')\n",
    "else:   \n",
    "    print(f'Error Code = {res.status_code}') "
   ]
  },
  {
   "cell_type": "code",
   "execution_count": null,
   "id": "2335aa05",
   "metadata": {},
   "outputs": [],
   "source": [
    "import requests\n",
    "from bs4 import BeautifulSoup\n",
    "\n",
    "section_dict = {'기후/환경':\"climate\",'사회':\"society\",'경제':\"economy\",'정치':\"politics\",'국제':\"world\",'문화':\"culture\",'생활':\"life\",'IT/과학':\"tech\",'인물':\"people\",'지식/칼럼':\"understanding\",'연재':\"series\"}\n",
    "\n",
    "\n",
    "def print_news(section):  \n",
    "    sid = section_dict[section]\n",
    "    url = f'https://news.daum.net/{sid}'\n",
    "    print(f'{url} {section} 뉴스')\n",
    "\n",
    "    # 요청 헤더 설정 : 브라우저 정보\n",
    "    req_header = {\n",
    "        \"user-agent\": \"Mozilla/5.0 (Windows NT 10.0; Win64; x64) AppleWebKit/537.36 (KHTML, like Gecko) Chrome/138.0.0.0 Safari/537.36\"\n",
    "    }\n",
    "\n",
    "    res = requests.get(url, headers=req_header)\n",
    "    print(res.status_code, res.ok)\n",
    "    if res.ok:\n",
    "        res.encoding = 'utf-8'\n",
    "        html = res.text\n",
    "        \n",
    "        # BeautifulSoup 객체 생성\n",
    "        soup = BeautifulSoup(html, \"html.parser\")\n",
    "        a_tags = soup.select(\"a.item_newsheadline2\")\n",
    "        print(len(a_tags))\n",
    "        \n",
    "        # <a> 태그 리스트 순회하기\n",
    "        for idx, a_tag in enumerate(a_tags, 1):        \n",
    "            if a_tag.text:\n",
    "                title = a_tag.text.strip()  # 제목\n",
    "                link = a_tag['href']        # 링크\n",
    "                print(f'{idx}. {title} - {link}')\n",
    "    else:\n",
    "        print(f'Error Code = {res.status_code}')"
   ]
  },
  {
   "cell_type": "code",
   "execution_count": 61,
   "id": "f4cc239f",
   "metadata": {},
   "outputs": [
    {
     "name": "stdout",
     "output_type": "stream",
     "text": [
      "https://news.daum.net/climate 기후/환경 뉴스\n",
      "200 True\n",
      "9\n",
      "1. “이번에도 자중지란?”…RE100 국가산단 앞두고 전북 또 갈등 재생에너지 100% 기반 ‘RE100 국가산업단지’ 유치를 놓고 전북이 또다시 내부 갈등에 휘말리는 양상이다. 군산·김제·부안이 새만금 내 각자의 ‘적지론’을 내세우며 맞서는 사이, 전남과 울산 등 타 시도는 조용히 유치 경쟁에 박차를 가하고 있다. 새만금 신항 운영 방식, 동서도로 관할권을 둘러싼 갈등이 지역 내부의 이견에 그쳤다면, 이번에는 전국 단 전북일보 1시간 전 - https://v.daum.net/v/20250722212725253\n",
      "2. 동영상     모로코, 기후변화 맞서 오아시스 지키는 농민들 OBS 1시간 전 - https://v.daum.net/v/20250722211237993\n",
      "3. 동영상     \"누가 국가유산에\" 청주 상당산성에 의문의 쓰레기 더미 MBC충북 2시간 전 - https://v.daum.net/v/20250722205453547\n",
      "4. 기후변화로 여름 폭우 한 달 빨라진다…7월이 ‘신(新) 장마 재난’ 중심 경북일보 2시간 전 - https://v.daum.net/v/20250722201755739\n",
      "5. [인천시, 탄소중립도시연합 가입] 세계적 기후 선도, 글로벌 협력 주도 인천일보 3시간 전 - https://v.daum.net/v/20250722195504173\n",
      "6. 베이징 대기질 개선 이끈 베이징대 석좌교수 \"탄소중립이 건강\" 뉴스1 3시간 전 - https://v.daum.net/v/20250722192326445\n",
      "7. '기후부' 신설 빨라지나…환경장관 \"산업부, 그대로 존재 안해\" 뉴시스 4시간 전 - https://v.daum.net/v/20250722184347309\n",
      "8. “동물 보호 외치면서 ‘뱀가죽’ 지갑?” 이런 게 수두룩…놀라운 ‘반전’ 알고 보니 [지구, 뭐래?] 헤럴드경제 4시간 전 - https://v.daum.net/v/20250722184158229\n",
      "9. \"곰 249마리 여전히 철창에\"…동물·환경단체, 환경부에 책임 촉구 뉴스1 5시간 전 - https://v.daum.net/v/20250722173141469\n"
     ]
    }
   ],
   "source": [
    "print_news('기후/환경')"
   ]
  }
 ],
 "metadata": {
  "kernelspec": {
   "display_name": "base",
   "language": "python",
   "name": "python3"
  },
  "language_info": {
   "codemirror_mode": {
    "name": "ipython",
    "version": 3
   },
   "file_extension": ".py",
   "mimetype": "text/x-python",
   "name": "python",
   "nbconvert_exporter": "python",
   "pygments_lexer": "ipython3",
   "version": "3.12.7"
  }
 },
 "nbformat": 4,
 "nbformat_minor": 5
}
