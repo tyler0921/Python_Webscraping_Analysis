{
 "cells": [
  {
   "cell_type": "code",
   "execution_count": 2,
   "id": "6bf2fe01",
   "metadata": {},
   "outputs": [
    {
     "name": "stdout",
     "output_type": "stream",
     "text": [
      "Name: requests\n",
      "Version: 2.32.3\n",
      "Summary: Python HTTP for Humans.\n",
      "Home-page: https://requests.readthedocs.io\n",
      "Author: Kenneth Reitz\n",
      "Author-email: me@kennethreitz.org\n",
      "License: Apache-2.0\n",
      "Location: C:\\Users\\user\\anaconda3\\Lib\\site-packages\n",
      "Requires: certifi, charset-normalizer, idna, urllib3\n",
      "Required-by: aext-assistant-server, anaconda-auth, anaconda-catalogs, anaconda-client, anaconda-project, conda, conda-build, conda-repo-cli, conda_package_streaming, cookiecutter, datashader, jupyterlab_server, panel, requests-file, requests-toolbelt, Sphinx, streamlit, tldextract\n"
     ]
    }
   ],
   "source": [
    "!pip show requests"
   ]
  },
  {
   "cell_type": "code",
   "execution_count": 3,
   "id": "41b05276",
   "metadata": {},
   "outputs": [
    {
     "name": "stdout",
     "output_type": "stream",
     "text": [
      "Name: beautifulsoup4\n",
      "Version: 4.12.3\n",
      "Summary: Screen-scraping library\n",
      "Home-page: https://www.crummy.com/software/BeautifulSoup/bs4/\n",
      "Author: \n",
      "Author-email: Leonard Richardson <leonardr@segfault.org>\n",
      "License: MIT License\n",
      "Location: C:\\Users\\user\\anaconda3\\Lib\\site-packages\n",
      "Requires: soupsieve\n",
      "Required-by: conda-build, nbconvert\n"
     ]
    }
   ],
   "source": [
    "!pip show beautifulsoup4"
   ]
  },
  {
   "cell_type": "code",
   "execution_count": 4,
   "id": "ddff47f1",
   "metadata": {},
   "outputs": [],
   "source": [
    "import requests\n",
    "import bs4\n",
    "from bs4 import BeautifulSoup"
   ]
  },
  {
   "cell_type": "code",
   "execution_count": 5,
   "id": "458795ed",
   "metadata": {},
   "outputs": [
    {
     "name": "stdout",
     "output_type": "stream",
     "text": [
      "requests 버전 = 2.32.3\n",
      "bs4 버전 = 4.12.3\n"
     ]
    }
   ],
   "source": [
    "print(f'requests 버전 = {requests.__version__}')\n",
    "print(f'bs4 버전 = {bs4.__version__}')"
   ]
  },
  {
   "cell_type": "code",
   "execution_count": 28,
   "id": "133471a3",
   "metadata": {},
   "outputs": [
    {
     "name": "stdout",
     "output_type": "stream",
     "text": [
      "https://news.daum.net/economy\n",
      "200 True\n",
      "<class 'requests.models.Response'>\n",
      "<Response [200]>\n",
      "9\n",
      "<class 'bs4.element.ResultSet'>\n",
      "1 韓 반도체는 깨어날 줄 모르고 [AI 칩 전쟁…한국은 없다?] 세계 인공지능(AI) 칩 산업을 엔비디아가 사실상 장악한 가운데, 국내 기업은 갈 길이 멀다는 지적이 쏟아진다. 리벨리온과 퓨리오사AI 같은 팹리스(Fabless·반도체 설계) 업체가 대만 TSMC 등 파운드리 업체를 통해 AI 반도체 신경망처리장치(NPU)를 제조 중이지만, 빅테크와는 비교 불가다. 특히, 국내 AI 산업은 생태계 전반을 포괄적으로 아우르 매경이코노미 48분 전 https://v.daum.net/v/20250722210317765\n",
      "2 소비쿠폰 쓰려다가 '화들짝'…\"여기서는 못써요\" 응답에 '당황'한 소비자 아시아경제 1시간 전 https://v.daum.net/v/20250722204242273\n",
      "3 ‘해수부 부산 시대’ 조선·해양플랜트까지 업무 넓혀야 부산일보 2시간 전 https://v.daum.net/v/20250722202007801\n",
      "4 동영상     [이슈대담] “2040년 석탄화력발전소 폐쇄…신재생 에너지 전환” KBS 2시간 전 https://v.daum.net/v/20250722200357366\n",
      "5 경제통상 외교수장들, 대거 미국행... 관세 타결·한미정상회담 열릴까 오마이뉴스 3시간 전 https://v.daum.net/v/20250722190900992\n",
      "6 퇴근하면 시작된다...유통업계 다시 불붙은 '6시 쇼핑' 전쟁 중앙일보 3시간 전 https://v.daum.net/v/20250722185103483\n",
      "7 “자율주행, 이동약자 지원하는 ‘공공성’에 초점 맞춰야” 한겨레 3시간 전 https://v.daum.net/v/20250722183143976\n",
      "8 꾸준히 강세 흐름 보이는 메이저 알트코인들 : 코리안 크립토 위클리 [INFCL 리서치] 한국경제 4시간 전 https://v.daum.net/v/20250722181057244\n",
      "9 세계시장 제패한 K뷰티·푸드…'첨단' 아니라며 R&D지원은 쥐꼬리 한국경제 4시간 전 https://v.daum.net/v/20250722175548581\n"
     ]
    }
   ],
   "source": [
    "req_param = {\n",
    "    'sid': 'economy'\n",
    "}\n",
    "url = 'https://news.daum.net/economy'.format(**req_param)\n",
    "print(url)\n",
    "\n",
    "req_header = {\n",
    "    \"user-agent\": \"Mozilla/5.0 (Windows NT 10.0; Win64; x64) AppleWebKit/537.36 (KHTML, like Gecko) Chrome/138.0.0.0 Safari/537.36\"\n",
    "}\n",
    "\n",
    "res=requests.get(url,headers=req_header)\n",
    "print(res.status_code, res.ok)\n",
    "print(type(res))\n",
    "print(res)\n",
    "\n",
    "if res.ok:\n",
    "    res.encoding = 'utf-8'\n",
    "    html = res.text\n",
    "    soup = BeautifulSoup(html, \"html.parser\")   \n",
    "    a_tags = soup.select(\"a.item_newsheadline2\")\n",
    "    print(len(a_tags))\n",
    "    print(type(a_tags))\n",
    "    for idx,a_tag in enumerate(a_tags,1):        \n",
    "        if a_tag.text:\n",
    "            title = a_tag.text.strip() \n",
    "            link = a_tag['href']\n",
    "            print(f'{idx} {title} {link}')\n",
    "else:   \n",
    "    print(f'Error Code = {res.status_code}') "
   ]
  },
  {
   "cell_type": "code",
   "execution_count": 26,
   "id": "3d141065",
   "metadata": {},
   "outputs": [
    {
     "name": "stdout",
     "output_type": "stream",
     "text": [
      "총 뉴스 개수: 9\n",
      "1. 韓 반도체는 깨어날 줄 모르고 [AI 칩 전쟁…한국은 없다?]\n",
      "   https://v.daum.net/v/20250722210317765\n",
      "2. 소비쿠폰 쓰려다가 '화들짝'…\"여기서는 못써요\" 응답에 '당황'한 소비자\n",
      "   https://v.daum.net/v/20250722204242273\n",
      "3. ‘해수부 부산 시대’ 조선·해양플랜트까지 업무 넓혀야\n",
      "   https://v.daum.net/v/20250722202007801\n",
      "4. [이슈대담] “2040년 석탄화력발전소 폐쇄…신재생 에너지 전환”\n",
      "   https://v.daum.net/v/20250722200357366\n",
      "5. 경제통상 외교수장들, 대거 미국행... 관세 타결·한미정상회담 열릴까\n",
      "   https://v.daum.net/v/20250722190900992\n",
      "6. 퇴근하면 시작된다...유통업계 다시 불붙은 '6시 쇼핑' 전쟁\n",
      "   https://v.daum.net/v/20250722185103483\n",
      "7. “자율주행, 이동약자 지원하는 ‘공공성’에 초점 맞춰야”\n",
      "   https://v.daum.net/v/20250722183143976\n",
      "8. 꾸준히 강세 흐름 보이는 메이저 알트코인들 : 코리안 크립토 위클리 [INFCL 리서치]\n",
      "   https://v.daum.net/v/20250722181057244\n",
      "9. 세계시장 제패한 K뷰티·푸드…'첨단' 아니라며 R&D지원은 쥐꼬리\n",
      "   https://v.daum.net/v/20250722175548581\n"
     ]
    }
   ],
   "source": [
    "url = \"https://news.daum.net/economy\"\n",
    "\n",
    "headers = {\n",
    "    \"User-Agent\": \"Mozilla/5.0 (Windows NT 10.0; Win64; x64) AppleWebKit/537.36 (KHTML, like Gecko) Chrome/138.0.0.0 Safari/537.36\"\n",
    "}\n",
    "\n",
    "res = requests.get(url, headers=headers)\n",
    "\n",
    "if res.ok:\n",
    "    res.encoding = 'utf-8'  # ← 이걸 반드시 넣어줘야 한글 안깨짐!\n",
    "    soup = BeautifulSoup(res.text, \"html.parser\")\n",
    "\n",
    "    a_tags = soup.select(\"a.item_newsheadline2\")\n",
    "    print(f\"총 뉴스 개수: {len(a_tags)}\")\n",
    "\n",
    "    for idx, a_tag in enumerate(a_tags, 1):\n",
    "        title_tag = a_tag.select_one(\"strong.tit_txt\")\n",
    "        title = title_tag.get_text(strip=True) if title_tag else \"제목 없음\"\n",
    "        link = a_tag.get(\"href\")\n",
    "        print(f\"{idx}. {title}\\n   {link}\")\n",
    "else:\n",
    "    print(f\"Error: 응답 코드 {res.status_code}\")"
   ]
  }
 ],
 "metadata": {
  "kernelspec": {
   "display_name": "base",
   "language": "python",
   "name": "python3"
  },
  "language_info": {
   "codemirror_mode": {
    "name": "ipython",
    "version": 3
   },
   "file_extension": ".py",
   "mimetype": "text/x-python",
   "name": "python",
   "nbconvert_exporter": "python",
   "pygments_lexer": "ipython3",
   "version": "3.12.7"
  }
 },
 "nbformat": 4,
 "nbformat_minor": 5
}
