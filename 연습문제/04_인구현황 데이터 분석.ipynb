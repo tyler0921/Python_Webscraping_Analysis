{
 "cells": [
  {
   "cell_type": "code",
   "execution_count": 48,
   "id": "bb22aaf4",
   "metadata": {},
   "outputs": [],
   "source": [
    "import pandas as pd\n",
    "import matplotlib\n",
    "import matplotlib.pyplot as plt\n",
    "import matplotlib.font_manager as fm\n",
    "import seaborn as sns"
   ]
  },
  {
   "cell_type": "code",
   "execution_count": 49,
   "id": "1619d7f2",
   "metadata": {},
   "outputs": [
    {
     "name": "stdout",
     "output_type": "stream",
     "text": [
      "Malgun Gothic\n"
     ]
    }
   ],
   "source": [
    "font_path = 'C:\\\\windows\\\\Fonts\\\\malgun.ttf'\n",
    "font_prop = fm.FontProperties(fname=font_path).get_name()\n",
    "print(font_prop)\n",
    "matplotlib.rc('font', family=font_prop)"
   ]
  },
  {
   "cell_type": "code",
   "execution_count": 50,
   "id": "56b8a1fd",
   "metadata": {},
   "outputs": [
    {
     "name": "stdout",
     "output_type": "stream",
     "text": [
      "<class 'pandas.core.frame.DataFrame'>\n"
     ]
    },
    {
     "data": {
      "text/html": [
       "<div>\n",
       "<style scoped>\n",
       "    .dataframe tbody tr th:only-of-type {\n",
       "        vertical-align: middle;\n",
       "    }\n",
       "\n",
       "    .dataframe tbody tr th {\n",
       "        vertical-align: top;\n",
       "    }\n",
       "\n",
       "    .dataframe thead th {\n",
       "        text-align: right;\n",
       "    }\n",
       "</style>\n",
       "<table border=\"1\" class=\"dataframe\">\n",
       "  <thead>\n",
       "    <tr style=\"text-align: right;\">\n",
       "      <th></th>\n",
       "      <th>행정기관코드</th>\n",
       "      <th>행정기관</th>\n",
       "      <th>총인구수</th>\n",
       "      <th>세대수</th>\n",
       "      <th>세대당 인구</th>\n",
       "      <th>남자 인구수</th>\n",
       "      <th>여자 인구수</th>\n",
       "      <th>남여 비율</th>\n",
       "    </tr>\n",
       "  </thead>\n",
       "  <tbody>\n",
       "    <tr>\n",
       "      <th>0</th>\n",
       "      <td>1000000000</td>\n",
       "      <td>전국</td>\n",
       "      <td>51217221</td>\n",
       "      <td>24118928</td>\n",
       "      <td>2.12</td>\n",
       "      <td>25498324</td>\n",
       "      <td>25718897</td>\n",
       "      <td>0.99</td>\n",
       "    </tr>\n",
       "    <tr>\n",
       "      <th>1</th>\n",
       "      <td>1100000000</td>\n",
       "      <td>서울특별시</td>\n",
       "      <td>9331828</td>\n",
       "      <td>4482063</td>\n",
       "      <td>2.08</td>\n",
       "      <td>4505355</td>\n",
       "      <td>4826473</td>\n",
       "      <td>0.93</td>\n",
       "    </tr>\n",
       "    <tr>\n",
       "      <th>2</th>\n",
       "      <td>2600000000</td>\n",
       "      <td>부산광역시</td>\n",
       "      <td>3266598</td>\n",
       "      <td>1570403</td>\n",
       "      <td>2.08</td>\n",
       "      <td>1589912</td>\n",
       "      <td>1676686</td>\n",
       "      <td>0.95</td>\n",
       "    </tr>\n",
       "    <tr>\n",
       "      <th>3</th>\n",
       "      <td>2700000000</td>\n",
       "      <td>대구광역시</td>\n",
       "      <td>2363629</td>\n",
       "      <td>1104130</td>\n",
       "      <td>2.14</td>\n",
       "      <td>1159601</td>\n",
       "      <td>1204028</td>\n",
       "      <td>0.96</td>\n",
       "    </tr>\n",
       "    <tr>\n",
       "      <th>4</th>\n",
       "      <td>2800000000</td>\n",
       "      <td>인천광역시</td>\n",
       "      <td>3021010</td>\n",
       "      <td>1373827</td>\n",
       "      <td>2.20</td>\n",
       "      <td>1509243</td>\n",
       "      <td>1511767</td>\n",
       "      <td>1.00</td>\n",
       "    </tr>\n",
       "  </tbody>\n",
       "</table>\n",
       "</div>"
      ],
      "text/plain": [
       "       행정기관코드   행정기관      총인구수       세대수  세대당 인구    남자 인구수    여자 인구수  남여 비율\n",
       "0  1000000000     전국  51217221  24118928    2.12  25498324  25718897   0.99\n",
       "1  1100000000  서울특별시   9331828   4482063    2.08   4505355   4826473   0.93\n",
       "2  2600000000  부산광역시   3266598   1570403    2.08   1589912   1676686   0.95\n",
       "3  2700000000  대구광역시   2363629   1104130    2.14   1159601   1204028   0.96\n",
       "4  2800000000  인천광역시   3021010   1373827    2.20   1509243   1511767   1.00"
      ]
     },
     "execution_count": 50,
     "metadata": {},
     "output_type": "execute_result"
    }
   ],
   "source": [
    "\n",
    "# 인구현황.csv 로드하여 DataFrame 객체생성 , 변수명은 df_all \n",
    "df_all = pd.read_csv('../data/인구현황.csv')\n",
    "print(type(df_all))\n",
    "df_all.head(5)"
   ]
  },
  {
   "cell_type": "code",
   "execution_count": 51,
   "id": "528fe569",
   "metadata": {},
   "outputs": [
    {
     "data": {
      "text/html": [
       "<div>\n",
       "<style scoped>\n",
       "    .dataframe tbody tr th:only-of-type {\n",
       "        vertical-align: middle;\n",
       "    }\n",
       "\n",
       "    .dataframe tbody tr th {\n",
       "        vertical-align: top;\n",
       "    }\n",
       "\n",
       "    .dataframe thead th {\n",
       "        text-align: right;\n",
       "    }\n",
       "</style>\n",
       "<table border=\"1\" class=\"dataframe\">\n",
       "  <thead>\n",
       "    <tr style=\"text-align: right;\">\n",
       "      <th></th>\n",
       "      <th>행정기관코드</th>\n",
       "      <th>행정기관</th>\n",
       "      <th>총인구수</th>\n",
       "      <th>세대수</th>\n",
       "      <th>세대당 인구</th>\n",
       "      <th>남자 인구수</th>\n",
       "      <th>여자 인구수</th>\n",
       "      <th>남여 비율</th>\n",
       "    </tr>\n",
       "  </thead>\n",
       "  <tbody>\n",
       "    <tr>\n",
       "      <th>1</th>\n",
       "      <td>1100000000</td>\n",
       "      <td>서울특별시</td>\n",
       "      <td>9331828</td>\n",
       "      <td>4482063</td>\n",
       "      <td>2.08</td>\n",
       "      <td>4505355</td>\n",
       "      <td>4826473</td>\n",
       "      <td>0.93</td>\n",
       "    </tr>\n",
       "    <tr>\n",
       "      <th>2</th>\n",
       "      <td>2600000000</td>\n",
       "      <td>부산광역시</td>\n",
       "      <td>3266598</td>\n",
       "      <td>1570403</td>\n",
       "      <td>2.08</td>\n",
       "      <td>1589912</td>\n",
       "      <td>1676686</td>\n",
       "      <td>0.95</td>\n",
       "    </tr>\n",
       "    <tr>\n",
       "      <th>3</th>\n",
       "      <td>2700000000</td>\n",
       "      <td>대구광역시</td>\n",
       "      <td>2363629</td>\n",
       "      <td>1104130</td>\n",
       "      <td>2.14</td>\n",
       "      <td>1159601</td>\n",
       "      <td>1204028</td>\n",
       "      <td>0.96</td>\n",
       "    </tr>\n",
       "    <tr>\n",
       "      <th>4</th>\n",
       "      <td>2800000000</td>\n",
       "      <td>인천광역시</td>\n",
       "      <td>3021010</td>\n",
       "      <td>1373827</td>\n",
       "      <td>2.20</td>\n",
       "      <td>1509243</td>\n",
       "      <td>1511767</td>\n",
       "      <td>1.00</td>\n",
       "    </tr>\n",
       "    <tr>\n",
       "      <th>5</th>\n",
       "      <td>2900000000</td>\n",
       "      <td>광주광역시</td>\n",
       "      <td>1408422</td>\n",
       "      <td>658075</td>\n",
       "      <td>2.14</td>\n",
       "      <td>695224</td>\n",
       "      <td>713198</td>\n",
       "      <td>0.97</td>\n",
       "    </tr>\n",
       "  </tbody>\n",
       "</table>\n",
       "</div>"
      ],
      "text/plain": [
       "       행정기관코드   행정기관     총인구수      세대수  세대당 인구   남자 인구수   여자 인구수  남여 비율\n",
       "1  1100000000  서울특별시  9331828  4482063    2.08  4505355  4826473   0.93\n",
       "2  2600000000  부산광역시  3266598  1570403    2.08  1589912  1676686   0.95\n",
       "3  2700000000  대구광역시  2363629  1104130    2.14  1159601  1204028   0.96\n",
       "4  2800000000  인천광역시  3021010  1373827    2.20  1509243  1511767   1.00\n",
       "5  2900000000  광주광역시  1408422   658075    2.14   695224   713198   0.97"
      ]
     },
     "execution_count": 51,
     "metadata": {},
     "output_type": "execute_result"
    }
   ],
   "source": [
    "df = df_all.loc[df_all['행정기관'] != '전국'].copy()\n",
    "df.head()"
   ]
  },
  {
   "cell_type": "code",
   "execution_count": 52,
   "id": "ce1824be",
   "metadata": {},
   "outputs": [
    {
     "name": "stdout",
     "output_type": "stream",
     "text": [
      "\n",
      "결측치 확인:\n",
      "행정기관코드    0\n",
      "행정기관      0\n",
      "총인구수      0\n",
      "세대수       0\n",
      "세대당 인구    0\n",
      "남자 인구수    0\n",
      "여자 인구수    0\n",
      "남여 비율     0\n",
      "dtype: int64\n"
     ]
    }
   ],
   "source": [
    "print(\"\\n결측치 확인:\")\n",
    "print(df.isnull().sum())"
   ]
  },
  {
   "cell_type": "code",
   "execution_count": 17,
   "id": "55a5a37f",
   "metadata": {},
   "outputs": [
    {
     "data": {
      "text/plain": [
       "Index(['행정기관코드', '행정기관', '총인구수', '세대수', '세대당 인구', '남자 인구수', '여자 인구수', '남여 비율'], dtype='object')"
      ]
     },
     "execution_count": 17,
     "metadata": {},
     "output_type": "execute_result"
    }
   ],
   "source": [
    "df_all.columns"
   ]
  },
  {
   "cell_type": "markdown",
   "id": "00dc8ea2",
   "metadata": {},
   "source": [
    "### 1. 지역별 총인구수 Top5"
   ]
  },
  {
   "cell_type": "code",
   "execution_count": null,
   "id": "e0e1ead6",
   "metadata": {},
   "outputs": [
    {
     "name": "stdout",
     "output_type": "stream",
     "text": [
      "1. 지역별 총인구수 Top5\n"
     ]
    },
    {
     "data": {
      "text/html": [
       "<div>\n",
       "<style scoped>\n",
       "    .dataframe tbody tr th:only-of-type {\n",
       "        vertical-align: middle;\n",
       "    }\n",
       "\n",
       "    .dataframe tbody tr th {\n",
       "        vertical-align: top;\n",
       "    }\n",
       "\n",
       "    .dataframe thead th {\n",
       "        text-align: right;\n",
       "    }\n",
       "</style>\n",
       "<table border=\"1\" class=\"dataframe\">\n",
       "  <thead>\n",
       "    <tr style=\"text-align: right;\">\n",
       "      <th></th>\n",
       "      <th>행정기관</th>\n",
       "      <th>총인구수</th>\n",
       "    </tr>\n",
       "  </thead>\n",
       "  <tbody>\n",
       "    <tr>\n",
       "      <th>9</th>\n",
       "      <td>경기도</td>\n",
       "      <td>13694685</td>\n",
       "    </tr>\n",
       "    <tr>\n",
       "      <th>1</th>\n",
       "      <td>서울특별시</td>\n",
       "      <td>9331828</td>\n",
       "    </tr>\n",
       "    <tr>\n",
       "      <th>2</th>\n",
       "      <td>부산광역시</td>\n",
       "      <td>3266598</td>\n",
       "    </tr>\n",
       "    <tr>\n",
       "      <th>16</th>\n",
       "      <td>경상남도</td>\n",
       "      <td>3228380</td>\n",
       "    </tr>\n",
       "    <tr>\n",
       "      <th>4</th>\n",
       "      <td>인천광역시</td>\n",
       "      <td>3021010</td>\n",
       "    </tr>\n",
       "  </tbody>\n",
       "</table>\n",
       "</div>"
      ],
      "text/plain": [
       "     행정기관      총인구수\n",
       "9     경기도  13694685\n",
       "1   서울특별시   9331828\n",
       "2   부산광역시   3266598\n",
       "16   경상남도   3228380\n",
       "4   인천광역시   3021010"
      ]
     },
     "execution_count": 38,
     "metadata": {},
     "output_type": "execute_result"
    }
   ],
   "source": [
    "top5 = df_all[['행정기관', '총인구수']].sort_values(by='총인구수', ascending=False).head(5)\n",
    "print(\"1. 지역별 총인구수 Top5\")\n",
    "top5\n"
   ]
  },
  {
   "cell_type": "markdown",
   "id": "765aef83",
   "metadata": {},
   "source": [
    "### 1-1. 지역별 총인구수 Plot"
   ]
  },
  {
   "cell_type": "code",
   "execution_count": 40,
   "id": "b28db67b",
   "metadata": {},
   "outputs": [
    {
     "data": {
      "image/png": "[encoded data removed]",
      "text/plain": [
       "<Figure size 1000x500 with 1 Axes>"
      ]
     },
     "metadata": {},
     "output_type": "display_data"
    }
   ],
   "source": [
    "plt.figure(figsize=(10,5))\n",
    "# seaborn의 barplot() 함수사용\n",
    "sns.barplot(data=df_all.sort_values(by='총인구수', ascending=False), x='행정기관', y='총인구수',hue='행정기관')\n",
    "\n",
    "plt.xticks(rotation=45)\n",
    "plt.title('지역별 총인구수')\n",
    "plt.tight_layout()\n",
    "plt.show()"
   ]
  },
  {
   "cell_type": "markdown",
   "id": "7e8bed7d",
   "metadata": {},
   "source": [
    "### 2. 세대당 인구수 높은 지역 Top5"
   ]
  },
  {
   "cell_type": "code",
   "execution_count": 39,
   "id": "749e00fe",
   "metadata": {},
   "outputs": [
    {
     "name": "stdout",
     "output_type": "stream",
     "text": [
      "2. 세대당 인구수 높은 지역 Top5\n"
     ]
    },
    {
     "data": {
      "text/html": [
       "<div>\n",
       "<style scoped>\n",
       "    .dataframe tbody tr th:only-of-type {\n",
       "        vertical-align: middle;\n",
       "    }\n",
       "\n",
       "    .dataframe tbody tr th {\n",
       "        vertical-align: top;\n",
       "    }\n",
       "\n",
       "    .dataframe thead th {\n",
       "        text-align: right;\n",
       "    }\n",
       "</style>\n",
       "<table border=\"1\" class=\"dataframe\">\n",
       "  <thead>\n",
       "    <tr style=\"text-align: right;\">\n",
       "      <th></th>\n",
       "      <th>행정기관</th>\n",
       "      <th>세대당 인구</th>\n",
       "    </tr>\n",
       "  </thead>\n",
       "  <tbody>\n",
       "    <tr>\n",
       "      <th>0</th>\n",
       "      <td>세종특별자치시</td>\n",
       "      <td>2.39</td>\n",
       "    </tr>\n",
       "    <tr>\n",
       "      <th>1</th>\n",
       "      <td>경기도</td>\n",
       "      <td>2.26</td>\n",
       "    </tr>\n",
       "    <tr>\n",
       "      <th>2</th>\n",
       "      <td>울산광역시</td>\n",
       "      <td>2.22</td>\n",
       "    </tr>\n",
       "    <tr>\n",
       "      <th>3</th>\n",
       "      <td>인천광역시</td>\n",
       "      <td>2.20</td>\n",
       "    </tr>\n",
       "    <tr>\n",
       "      <th>4</th>\n",
       "      <td>대구광역시</td>\n",
       "      <td>2.14</td>\n",
       "    </tr>\n",
       "  </tbody>\n",
       "</table>\n",
       "</div>"
      ],
      "text/plain": [
       "      행정기관  세대당 인구\n",
       "0  세종특별자치시    2.39\n",
       "1      경기도    2.26\n",
       "2    울산광역시    2.22\n",
       "3    인천광역시    2.20\n",
       "4    대구광역시    2.14"
      ]
     },
     "execution_count": 39,
     "metadata": {},
     "output_type": "execute_result"
    }
   ],
   "source": [
    "top5 = df_all[['행정기관', '세대당 인구']].sort_values(by='세대당 인구', ascending=False).reset_index(drop=True).head(5)\n",
    "print(\"2. 세대당 인구수 높은 지역 Top5\")\n",
    "top5"
   ]
  },
  {
   "cell_type": "markdown",
   "id": "acd42399",
   "metadata": {},
   "source": [
    "### 2-1. 지역별 세대당 인구 Plot"
   ]
  },
  {
   "cell_type": "code",
   "execution_count": 42,
   "id": "28afcd2d",
   "metadata": {},
   "outputs": [
    {
     "data": {
      "image/png": "[encoded data removed]",
      "text/plain": [
       "<Figure size 1000x500 with 1 Axes>"
      ]
     },
     "metadata": {},
     "output_type": "display_data"
    }
   ],
   "source": [
    "plt.figure(figsize=(10,5))\n",
    "# seaborn의 barplot() 함수사용\n",
    "sns.barplot(data=df_all.sort_values(by='세대당 인구', ascending=False), x='행정기관', y='세대당 인구',hue='행정기관')\n",
    "\n",
    "plt.xticks(rotation=45)\n",
    "plt.title('지역별 세대당 인구')\n",
    "plt.tight_layout()\n",
    "plt.show()"
   ]
  },
  {
   "cell_type": "markdown",
   "id": "1c7df416",
   "metadata": {},
   "source": [
    "### 3. 남녀 비율 분석"
   ]
  },
  {
   "cell_type": "code",
   "execution_count": 64,
   "id": "ea603166",
   "metadata": {},
   "outputs": [
    {
     "name": "stdout",
     "output_type": "stream",
     "text": [
      "3. 남녀 비율 분석\n"
     ]
    },
    {
     "data": {
      "text/html": [
       "<div>\n",
       "<style scoped>\n",
       "    .dataframe tbody tr th:only-of-type {\n",
       "        vertical-align: middle;\n",
       "    }\n",
       "\n",
       "    .dataframe tbody tr th {\n",
       "        vertical-align: top;\n",
       "    }\n",
       "\n",
       "    .dataframe thead th {\n",
       "        text-align: right;\n",
       "    }\n",
       "</style>\n",
       "<table border=\"1\" class=\"dataframe\">\n",
       "  <thead>\n",
       "    <tr style=\"text-align: right;\">\n",
       "      <th></th>\n",
       "      <th>행정기관</th>\n",
       "      <th>남여 비율</th>\n",
       "    </tr>\n",
       "  </thead>\n",
       "  <tbody>\n",
       "    <tr>\n",
       "      <th>0</th>\n",
       "      <td>울산광역시</td>\n",
       "      <td>1.06</td>\n",
       "    </tr>\n",
       "    <tr>\n",
       "      <th>1</th>\n",
       "      <td>충청남도</td>\n",
       "      <td>1.05</td>\n",
       "    </tr>\n",
       "    <tr>\n",
       "      <th>2</th>\n",
       "      <td>충청북도</td>\n",
       "      <td>1.04</td>\n",
       "    </tr>\n",
       "    <tr>\n",
       "      <th>3</th>\n",
       "      <td>경상남도</td>\n",
       "      <td>1.02</td>\n",
       "    </tr>\n",
       "    <tr>\n",
       "      <th>4</th>\n",
       "      <td>경상북도</td>\n",
       "      <td>1.02</td>\n",
       "    </tr>\n",
       "    <tr>\n",
       "      <th>5</th>\n",
       "      <td>전라남도</td>\n",
       "      <td>1.02</td>\n",
       "    </tr>\n",
       "    <tr>\n",
       "      <th>6</th>\n",
       "      <td>경기도</td>\n",
       "      <td>1.01</td>\n",
       "    </tr>\n",
       "    <tr>\n",
       "      <th>7</th>\n",
       "      <td>강원특별자치도</td>\n",
       "      <td>1.01</td>\n",
       "    </tr>\n",
       "    <tr>\n",
       "      <th>8</th>\n",
       "      <td>제주특별자치도</td>\n",
       "      <td>1.00</td>\n",
       "    </tr>\n",
       "    <tr>\n",
       "      <th>9</th>\n",
       "      <td>인천광역시</td>\n",
       "      <td>1.00</td>\n",
       "    </tr>\n",
       "    <tr>\n",
       "      <th>10</th>\n",
       "      <td>세종특별자치시</td>\n",
       "      <td>0.99</td>\n",
       "    </tr>\n",
       "    <tr>\n",
       "      <th>11</th>\n",
       "      <td>대전광역시</td>\n",
       "      <td>0.99</td>\n",
       "    </tr>\n",
       "    <tr>\n",
       "      <th>12</th>\n",
       "      <td>전북특별자치도</td>\n",
       "      <td>0.99</td>\n",
       "    </tr>\n",
       "    <tr>\n",
       "      <th>13</th>\n",
       "      <td>광주광역시</td>\n",
       "      <td>0.97</td>\n",
       "    </tr>\n",
       "    <tr>\n",
       "      <th>14</th>\n",
       "      <td>대구광역시</td>\n",
       "      <td>0.96</td>\n",
       "    </tr>\n",
       "    <tr>\n",
       "      <th>15</th>\n",
       "      <td>부산광역시</td>\n",
       "      <td>0.95</td>\n",
       "    </tr>\n",
       "    <tr>\n",
       "      <th>16</th>\n",
       "      <td>서울특별시</td>\n",
       "      <td>0.93</td>\n",
       "    </tr>\n",
       "  </tbody>\n",
       "</table>\n",
       "</div>"
      ],
      "text/plain": [
       "       행정기관  남여 비율\n",
       "0     울산광역시   1.06\n",
       "1      충청남도   1.05\n",
       "2      충청북도   1.04\n",
       "3      경상남도   1.02\n",
       "4      경상북도   1.02\n",
       "5      전라남도   1.02\n",
       "6       경기도   1.01\n",
       "7   강원특별자치도   1.01\n",
       "8   제주특별자치도   1.00\n",
       "9     인천광역시   1.00\n",
       "10  세종특별자치시   0.99\n",
       "11    대전광역시   0.99\n",
       "12  전북특별자치도   0.99\n",
       "13    광주광역시   0.97\n",
       "14    대구광역시   0.96\n",
       "15    부산광역시   0.95\n",
       "16    서울특별시   0.93"
      ]
     },
     "execution_count": 64,
     "metadata": {},
     "output_type": "execute_result"
    }
   ],
   "source": [
    "df_filtered = df_all[df_all['행정기관'] != '전국']\n",
    "gender_ratio_sorted = df_all[['행정기관', '남여 비율']].sort_values(by='남여 비율', ascending=False).reset_index(drop=True)\n",
    "print(\"3. 남녀 비율 분석\")\n",
    "gender_ratio_sorted"
   ]
  },
  {
   "cell_type": "markdown",
   "id": "4de868d6",
   "metadata": {},
   "source": [
    "### 4. 남자초과 / 여자초과 분석\n",
    "    * 남초(남자초과) => 남자 인구가 여자 인구보다 많은 지역 남여 비율 > 1 또는 남자 인구수 > 여자 인구수\n",
    "\n",
    "    * 여초(여자초과) => 여자 인구가 남자 인구보다 많은 지역 남여 비율 < 1 또는 여자 인구수 > 남자 인구수\n",
    "\n",
    "    * 남초여초 컬럼을 추가합니다."
   ]
  },
  {
   "cell_type": "code",
   "execution_count": 91,
   "id": "c77f7e3f",
   "metadata": {},
   "outputs": [
    {
     "name": "stdout",
     "output_type": "stream",
     "text": [
      "4. 남초 vs 여초 지역 구분\n"
     ]
    },
    {
     "data": {
      "text/html": [
       "<div>\n",
       "<style scoped>\n",
       "    .dataframe tbody tr th:only-of-type {\n",
       "        vertical-align: middle;\n",
       "    }\n",
       "\n",
       "    .dataframe tbody tr th {\n",
       "        vertical-align: top;\n",
       "    }\n",
       "\n",
       "    .dataframe thead th {\n",
       "        text-align: right;\n",
       "    }\n",
       "</style>\n",
       "<table border=\"1\" class=\"dataframe\">\n",
       "  <thead>\n",
       "    <tr style=\"text-align: right;\">\n",
       "      <th></th>\n",
       "      <th>행정기관</th>\n",
       "      <th>남여 비율</th>\n",
       "      <th>남초여초</th>\n",
       "    </tr>\n",
       "  </thead>\n",
       "  <tbody>\n",
       "    <tr>\n",
       "      <th>1</th>\n",
       "      <td>서울특별시</td>\n",
       "      <td>0.93</td>\n",
       "      <td>여초</td>\n",
       "    </tr>\n",
       "    <tr>\n",
       "      <th>2</th>\n",
       "      <td>부산광역시</td>\n",
       "      <td>0.95</td>\n",
       "      <td>여초</td>\n",
       "    </tr>\n",
       "    <tr>\n",
       "      <th>3</th>\n",
       "      <td>대구광역시</td>\n",
       "      <td>0.96</td>\n",
       "      <td>여초</td>\n",
       "    </tr>\n",
       "    <tr>\n",
       "      <th>4</th>\n",
       "      <td>인천광역시</td>\n",
       "      <td>1.00</td>\n",
       "      <td>여초</td>\n",
       "    </tr>\n",
       "    <tr>\n",
       "      <th>5</th>\n",
       "      <td>광주광역시</td>\n",
       "      <td>0.97</td>\n",
       "      <td>여초</td>\n",
       "    </tr>\n",
       "    <tr>\n",
       "      <th>6</th>\n",
       "      <td>대전광역시</td>\n",
       "      <td>0.99</td>\n",
       "      <td>여초</td>\n",
       "    </tr>\n",
       "    <tr>\n",
       "      <th>7</th>\n",
       "      <td>울산광역시</td>\n",
       "      <td>1.06</td>\n",
       "      <td>남초</td>\n",
       "    </tr>\n",
       "    <tr>\n",
       "      <th>8</th>\n",
       "      <td>세종특별자치시</td>\n",
       "      <td>0.99</td>\n",
       "      <td>여초</td>\n",
       "    </tr>\n",
       "    <tr>\n",
       "      <th>9</th>\n",
       "      <td>경기도</td>\n",
       "      <td>1.01</td>\n",
       "      <td>남초</td>\n",
       "    </tr>\n",
       "    <tr>\n",
       "      <th>10</th>\n",
       "      <td>강원특별자치도</td>\n",
       "      <td>1.01</td>\n",
       "      <td>남초</td>\n",
       "    </tr>\n",
       "    <tr>\n",
       "      <th>11</th>\n",
       "      <td>충청북도</td>\n",
       "      <td>1.04</td>\n",
       "      <td>남초</td>\n",
       "    </tr>\n",
       "    <tr>\n",
       "      <th>12</th>\n",
       "      <td>충청남도</td>\n",
       "      <td>1.05</td>\n",
       "      <td>남초</td>\n",
       "    </tr>\n",
       "    <tr>\n",
       "      <th>13</th>\n",
       "      <td>전북특별자치도</td>\n",
       "      <td>0.99</td>\n",
       "      <td>여초</td>\n",
       "    </tr>\n",
       "    <tr>\n",
       "      <th>14</th>\n",
       "      <td>전라남도</td>\n",
       "      <td>1.02</td>\n",
       "      <td>남초</td>\n",
       "    </tr>\n",
       "    <tr>\n",
       "      <th>15</th>\n",
       "      <td>경상북도</td>\n",
       "      <td>1.02</td>\n",
       "      <td>남초</td>\n",
       "    </tr>\n",
       "    <tr>\n",
       "      <th>16</th>\n",
       "      <td>경상남도</td>\n",
       "      <td>1.02</td>\n",
       "      <td>남초</td>\n",
       "    </tr>\n",
       "    <tr>\n",
       "      <th>17</th>\n",
       "      <td>제주특별자치도</td>\n",
       "      <td>1.00</td>\n",
       "      <td>여초</td>\n",
       "    </tr>\n",
       "  </tbody>\n",
       "</table>\n",
       "</div>"
      ],
      "text/plain": [
       "       행정기관  남여 비율 남초여초\n",
       "1     서울특별시   0.93   여초\n",
       "2     부산광역시   0.95   여초\n",
       "3     대구광역시   0.96   여초\n",
       "4     인천광역시   1.00   여초\n",
       "5     광주광역시   0.97   여초\n",
       "6     대전광역시   0.99   여초\n",
       "7     울산광역시   1.06   남초\n",
       "8   세종특별자치시   0.99   여초\n",
       "9       경기도   1.01   남초\n",
       "10  강원특별자치도   1.01   남초\n",
       "11     충청북도   1.04   남초\n",
       "12     충청남도   1.05   남초\n",
       "13  전북특별자치도   0.99   여초\n",
       "14     전라남도   1.02   남초\n",
       "15     경상북도   1.02   남초\n",
       "16     경상남도   1.02   남초\n",
       "17  제주특별자치도   1.00   여초"
      ]
     },
     "execution_count": 91,
     "metadata": {},
     "output_type": "execute_result"
    }
   ],
   "source": [
    "df_all = pd.read_csv('../data/인구현황.csv', encoding='utf-8')\n",
    "df_all = df_all.loc[df_all['행정기관'] != '전국']\n",
    "\n",
    "\n",
    "print(\"4. 남초 vs 여초 지역 구분\")\n",
    "\n",
    "top = df_all.groupby('행정기관', sort=False)['남여 비율'].mean()\n",
    "\n",
    "top_df = top.reset_index()\n",
    "top_df.columns = ['행정기관', '남여 비율']\n",
    "\n",
    "top_df['남초여초'] = top_df['남여 비율'].apply(lambda x: '남초' if x > 1.00 else '여초')\n",
    "\n",
    "top_df.index = range(1, len(top_df) + 1)\n",
    "\n",
    "top_df\n"
   ]
  },
  {
   "cell_type": "markdown",
   "id": "42df69e2",
   "metadata": {},
   "source": [
    "### 5. 세대당 인구 평균보다 높은 지역"
   ]
  },
  {
   "cell_type": "code",
   "execution_count": 79,
   "id": "204c81c1",
   "metadata": {},
   "outputs": [
    {
     "name": "stdout",
     "output_type": "stream",
     "text": [
      "5. 세대당 인구 평균보다 높은 지역\n",
      "전국 평균 세대당 인구수: 2.11\n"
     ]
    },
    {
     "data": {
      "text/html": [
       "<div>\n",
       "<style scoped>\n",
       "    .dataframe tbody tr th:only-of-type {\n",
       "        vertical-align: middle;\n",
       "    }\n",
       "\n",
       "    .dataframe tbody tr th {\n",
       "        vertical-align: top;\n",
       "    }\n",
       "\n",
       "    .dataframe thead th {\n",
       "        text-align: right;\n",
       "    }\n",
       "</style>\n",
       "<table border=\"1\" class=\"dataframe\">\n",
       "  <thead>\n",
       "    <tr style=\"text-align: right;\">\n",
       "      <th></th>\n",
       "      <th>행정기관</th>\n",
       "      <th>세대당 인구</th>\n",
       "    </tr>\n",
       "  </thead>\n",
       "  <tbody>\n",
       "    <tr>\n",
       "      <th>0</th>\n",
       "      <td>세종특별자치시</td>\n",
       "      <td>2.39</td>\n",
       "    </tr>\n",
       "    <tr>\n",
       "      <th>1</th>\n",
       "      <td>경기도</td>\n",
       "      <td>2.26</td>\n",
       "    </tr>\n",
       "    <tr>\n",
       "      <th>2</th>\n",
       "      <td>울산광역시</td>\n",
       "      <td>2.22</td>\n",
       "    </tr>\n",
       "    <tr>\n",
       "      <th>3</th>\n",
       "      <td>인천광역시</td>\n",
       "      <td>2.20</td>\n",
       "    </tr>\n",
       "    <tr>\n",
       "      <th>4</th>\n",
       "      <td>대구광역시</td>\n",
       "      <td>2.14</td>\n",
       "    </tr>\n",
       "    <tr>\n",
       "      <th>5</th>\n",
       "      <td>광주광역시</td>\n",
       "      <td>2.14</td>\n",
       "    </tr>\n",
       "    <tr>\n",
       "      <th>6</th>\n",
       "      <td>제주특별자치도</td>\n",
       "      <td>2.13</td>\n",
       "    </tr>\n",
       "  </tbody>\n",
       "</table>\n",
       "</div>"
      ],
      "text/plain": [
       "      행정기관  세대당 인구\n",
       "0  세종특별자치시    2.39\n",
       "1      경기도    2.26\n",
       "2    울산광역시    2.22\n",
       "3    인천광역시    2.20\n",
       "4    대구광역시    2.14\n",
       "5    광주광역시    2.14\n",
       "6  제주특별자치도    2.13"
      ]
     },
     "execution_count": 79,
     "metadata": {},
     "output_type": "execute_result"
    }
   ],
   "source": [
    "top5 = df_all[['행정기관', '세대당 인구']].sort_values(by='세대당 인구', ascending=False).reset_index(drop=True).head(7)\n",
    "print(\"5. 세대당 인구 평균보다 높은 지역\")\n",
    "# 전국 평균 세대당 인구수 계산\n",
    "avg_population_per_household = df_all['세대당 인구'].mean()\n",
    "# 평균 출력\n",
    "print(f\"전국 평균 세대당 인구수: {avg_population_per_household:.2f}\")\n",
    "top5"
   ]
  },
  {
   "cell_type": "markdown",
   "id": "51efa96e",
   "metadata": {},
   "source": [
    "### 5-1.   남초 vs 여초 개수 Plot  ( seaborn의 countplot )\n",
    "###            지역별 세대수 Plot ( seaborn의 barplot )\n"
   ]
  },
  {
   "cell_type": "code",
   "execution_count": 105,
   "id": "d1f6b058",
   "metadata": {},
   "outputs": [
    {
     "data": {
      "image/png": "[encoded data removed]",
      "text/plain": [
       "<Figure size 1000x1000 with 2 Axes>"
      ]
     },
     "metadata": {},
     "output_type": "display_data"
    }
   ],
   "source": [
    "df_all = pd.read_csv('../data/인구현황.csv', encoding='utf-8')\n",
    "df_all = df_all[df_all['행정기관'] != '전국']\n",
    "\n",
    "top = df_all.groupby('행정기관', sort=False)['남여 비율'].mean()\n",
    "top_df = top.reset_index()\n",
    "top_df.columns = ['행정기관', '남여 비율']\n",
    "top_df['남초여초'] = top_df['남여 비율'].apply(lambda x: '여초' if x > 1.00 else '남초')\n",
    "\n",
    "total_pop = df_all.copy()\n",
    "total_pop = total_pop.sort_values(by='세대수', ascending=False)\n",
    "\n",
    "fig, axs = plt.subplots(2, 1, figsize=(10, 10))\n",
    "\n",
    "sns.countplot(data=top_df, x='남초여초', hue='남초여초', order=['여초', '남초'], ax=axs[0])\n",
    "axs[0].set_title('남초 vs 여초 지역 개수', fontsize=14)\n",
    "axs[0].set_xlabel('남초여초')\n",
    "axs[0].set_ylabel('count')\n",
    "axs[0].set_ylim(0, top_df['남초여초'].value_counts().max() + 2)\n",
    "\n",
    "sns.barplot(x='행정기관', y='세대수', hue='행정기관', data=total_pop, ax=axs[1])\n",
    "axs[1].set_title('지역별 세대수', fontsize=14)\n",
    "axs[1].set_xlabel('행정기관')\n",
    "axs[1].set_ylabel('세대수')\n",
    "axs[1].tick_params(axis='x', rotation=45)\n",
    "\n",
    "plt.tight_layout()\n",
    "plt.show()"
   ]
  }
 ],
 "metadata": {
  "kernelspec": {
   "display_name": "base",
   "language": "python",
   "name": "python3"
  },
  "language_info": {
   "codemirror_mode": {
    "name": "ipython",
    "version": 3
   },
   "file_extension": ".py",
   "mimetype": "text/x-python",
   "name": "python",
   "nbconvert_exporter": "python",
   "pygments_lexer": "ipython3",
   "version": "3.12.7"
  }
 },
 "nbformat": 4,
 "nbformat_minor": 5
}
