{
 "cells": [
  {
   "cell_type": "code",
   "execution_count": 27,
   "id": "735a0247",
   "metadata": {},
   "outputs": [
    {
     "name": "stdout",
     "output_type": "stream",
     "text": [
      "\n",
      "--- 최신뉴스 뉴스 ---\n",
      "URL: https://news.nate.com/recent?mid=n0100\n",
      "\n",
      "1. 기사 제목: 이민정, 영탁도 감탄한 노래 실력…\"과거 성악 전공해\" (가오정)\n",
      "   기사 링크: https://news.nate.com/view/20250724n42645?mid=n0100\n",
      "   이미지 경로: https://thumbnews.nateimg.co.kr/news90///news.nateimg.co.kr/orgImg/is/2025/07/24/isp20250724000368.800x.0.jpg\n"
     ]
    },
    {
     "data": {
      "text/html": [
       "<img src=\"https://thumbnews.nateimg.co.kr/news90///news.nateimg.co.kr/orgImg/is/2025/07/24/isp20250724000368.800x.0.jpg\" width=\"150\"/>"
      ],
      "text/plain": [
       "<IPython.core.display.Image object>"
      ]
     },
     "metadata": {},
     "output_type": "display_data"
    },
    {
     "name": "stdout",
     "output_type": "stream",
     "text": [
      "\n",
      "2. 기사 제목: '초유의 日투어 취소 논란 끝낸 라쿠텐의 결단' 바르셀로나 선수단 곧 日고베행 비행기 오른다[西매체 속보]\n",
      "   기사 링크: https://news.nate.com/view/20250724n42602?mid=n0100\n",
      "   이미지 경로: https://thumbnews.nateimg.co.kr/news90///news.nateimg.co.kr/orgImg/sc/2025/07/24/2025072501001806600252191.jpg\n"
     ]
    },
    {
     "data": {
      "text/html": [
       "<img src=\"https://thumbnews.nateimg.co.kr/news90///news.nateimg.co.kr/orgImg/sc/2025/07/24/2025072501001806600252191.jpg\" width=\"150\"/>"
      ],
      "text/plain": [
       "<IPython.core.display.Image object>"
      ]
     },
     "metadata": {},
     "output_type": "display_data"
    },
    {
     "name": "stdout",
     "output_type": "stream",
     "text": [
      "\n",
      "3. 기사 제목: 안성 서운면 돼지농장 불…돈사 1개동 소실·인명피해 없어\n",
      "   기사 링크: https://news.nate.com/view/20250724n42643?mid=n0100\n",
      "   이미지 경로: https://thumbnews.nateimg.co.kr/news90///news.nateimg.co.kr/orgImg/na/2025/07/24/7412448_high.jpg\n"
     ]
    },
    {
     "data": {
      "text/html": [
       "<img src=\"https://thumbnews.nateimg.co.kr/news90///news.nateimg.co.kr/orgImg/na/2025/07/24/7412448_high.jpg\" width=\"150\"/>"
      ],
      "text/plain": [
       "<IPython.core.display.Image object>"
      ]
     },
     "metadata": {},
     "output_type": "display_data"
    },
    {
     "name": "stdout",
     "output_type": "stream",
     "text": [
      "\n",
      "4. 기사 제목: 서동주, '♥4세연하 남편'과 독특 신혼집 인테리어 공개 \"문 없는 화장실\"\n",
      "   기사 링크: https://news.nate.com/view/20250724n42642?mid=n0100\n",
      "   이미지 경로: https://thumbnews.nateimg.co.kr/news90///news.nateimg.co.kr/orgImg/su/2025/07/24/760996_1221618_857.png\n"
     ]
    },
    {
     "data": {
      "text/html": [
       "<img src=\"https://thumbnews.nateimg.co.kr/news90///news.nateimg.co.kr/orgImg/su/2025/07/24/760996_1221618_857.png\" width=\"150\"/>"
      ],
      "text/plain": [
       "<IPython.core.display.Image object>"
      ]
     },
     "metadata": {},
     "output_type": "display_data"
    },
    {
     "name": "stdout",
     "output_type": "stream",
     "text": [
      "\n",
      "5. 기사 제목: '천번의 낮밤' 지나도 못 밝힌 이태원의 그날…기억하려 모였다\n",
      "   기사 링크: https://news.nate.com/view/20250724n42132?mid=n0100\n",
      "   이미지 경로: https://thumbnews.nateimg.co.kr/news90///news.nateimg.co.kr/orgImg/hn/2025/07/24/53_17533637178466_20250724504344.jpg\n"
     ]
    },
    {
     "data": {
      "text/html": [
       "<img src=\"https://thumbnews.nateimg.co.kr/news90///news.nateimg.co.kr/orgImg/hn/2025/07/24/53_17533637178466_20250724504344.jpg\" width=\"150\"/>"
      ],
      "text/plain": [
       "<IPython.core.display.Image object>"
      ]
     },
     "metadata": {},
     "output_type": "display_data"
    },
    {
     "name": "stdout",
     "output_type": "stream",
     "text": [
      "\n",
      "--- 정치 뉴스 ---\n",
      "URL: https://news.nate.com/recent?mid=n0101\n",
      "\n",
      "1. 기사 제목: '극우와 결별' 두고 갈라진 국힘 당권주자들…친한 표심 어디로\n",
      "   기사 링크: https://news.nate.com/view/20250724n42638?mid=n0101\n",
      "   이미지 경로: https://thumbnews.nateimg.co.kr/news90///news.nateimg.co.kr/orgImg/ny/2025/07/24/403852_1753366424.jpg\n"
     ]
    },
    {
     "data": {
      "text/html": [
       "<img src=\"https://thumbnews.nateimg.co.kr/news90///news.nateimg.co.kr/orgImg/ny/2025/07/24/403852_1753366424.jpg\" width=\"150\"/>"
      ],
      "text/plain": [
       "<IPython.core.display.Image object>"
      ]
     },
     "metadata": {},
     "output_type": "display_data"
    },
    {
     "name": "stdout",
     "output_type": "stream",
     "text": [
      "\n",
      "2. 기사 제목: [포토] 양문석 항소심도 당선 무효형\n",
      "   기사 링크: https://news.nate.com/view/20250724n42633?mid=n0101\n",
      "   이미지 경로: https://thumbnews.nateimg.co.kr/news90///news.nateimg.co.kr/orgImg/kx/2025/07/24/2025072423130421180_1753366384_1753366366.jpg\n"
     ]
    },
    {
     "data": {
      "text/html": [
       "<img src=\"https://thumbnews.nateimg.co.kr/news90///news.nateimg.co.kr/orgImg/kx/2025/07/24/2025072423130421180_1753366384_1753366366.jpg\" width=\"150\"/>"
      ],
      "text/plain": [
       "<IPython.core.display.Image object>"
      ]
     },
     "metadata": {},
     "output_type": "display_data"
    },
    {
     "name": "stdout",
     "output_type": "stream",
     "text": [
      "\n",
      "3. 기사 제목: 이 대통령, 이재용과 만찬 회동…대미 투자  논의한 듯\n",
      "   기사 링크: https://news.nate.com/view/20250724n42608?mid=n0101\n",
      "   이미지 경로: https://thumbnews.nateimg.co.kr/news90///news.nateimg.co.kr/orgImg/ny/2025/07/24/403844_1753366244.jpg\n"
     ]
    },
    {
     "data": {
      "text/html": [
       "<img src=\"https://thumbnews.nateimg.co.kr/news90///news.nateimg.co.kr/orgImg/ny/2025/07/24/403844_1753366244.jpg\" width=\"150\"/>"
      ],
      "text/plain": [
       "<IPython.core.display.Image object>"
      ]
     },
     "metadata": {},
     "output_type": "display_data"
    },
    {
     "name": "stdout",
     "output_type": "stream",
     "text": [
      "\n",
      "4. 기사 제목: 한미, 2+2회의 무산됐지만, 산업장관간 무역협상 예정대로 진행\n",
      "   기사 링크: https://news.nate.com/view/20250724n42600?mid=n0101\n",
      "   이미지 경로: https://thumbnews.nateimg.co.kr/news90///news.nateimg.co.kr/orgImg/sv/2025/07/24/202093198_700.jpg\n"
     ]
    },
    {
     "data": {
      "text/html": [
       "<img src=\"https://thumbnews.nateimg.co.kr/news90///news.nateimg.co.kr/orgImg/sv/2025/07/24/202093198_700.jpg\" width=\"150\"/>"
      ],
      "text/plain": [
       "<IPython.core.display.Image object>"
      ]
     },
     "metadata": {},
     "output_type": "display_data"
    },
    {
     "name": "stdout",
     "output_type": "stream",
     "text": [
      "\n",
      "5. 기사 제목: [단독] '방미' 위성락, 루비오 만남 불발…왜?\n",
      "   기사 링크: https://news.nate.com/view/20250724n19013?mid=n0101\n",
      "   이미지 경로: https://thumbnews.nateimg.co.kr/news90///news.nateimg.co.kr/orgImg/nt/2025/07/24/im_news8_type1.jpg\n"
     ]
    },
    {
     "data": {
      "text/html": [
       "<img src=\"https://thumbnews.nateimg.co.kr/news90///news.nateimg.co.kr/orgImg/nt/2025/07/24/im_news8_type1.jpg\" width=\"150\"/>"
      ],
      "text/plain": [
       "<IPython.core.display.Image object>"
      ]
     },
     "metadata": {},
     "output_type": "display_data"
    },
    {
     "name": "stdout",
     "output_type": "stream",
     "text": [
      "\n",
      "--- 경제 뉴스 ---\n",
      "URL: https://news.nate.com/recent?mid=n0102\n",
      "\n",
      "1. 기사 제목: 금융위, NH투자증권 압수수색…\"미공개정보 이용해 부당이득\"\n",
      "   기사 링크: https://news.nate.com/view/20250724n42635?mid=n0102\n",
      "   이미지 경로: https://thumbnews.nateimg.co.kr/news90///news.nateimg.co.kr/orgImg/yn/2025/07/24/202507242254285148_t.jpg\n"
     ]
    },
    {
     "data": {
      "text/html": [
       "<img src=\"https://thumbnews.nateimg.co.kr/news90///news.nateimg.co.kr/orgImg/yn/2025/07/24/202507242254285148_t.jpg\" width=\"150\"/>"
      ],
      "text/plain": [
       "<IPython.core.display.Image object>"
      ]
     },
     "metadata": {},
     "output_type": "display_data"
    },
    {
     "name": "stdout",
     "output_type": "stream",
     "text": [
      "\n",
      "2. 기사 제목: 한미, 2+2회의 무산에도 산업장관간 무역협상은 예정대로\n",
      "   기사 링크: https://news.nate.com/view/20250724n42612?mid=n0102\n",
      "   이미지 경로: https://thumbnews.nateimg.co.kr/news90///news.nateimg.co.kr/orgImg/cb/2025/07/24/202507242307003993_0.jpg\n"
     ]
    },
    {
     "data": {
      "text/html": [
       "<img src=\"https://thumbnews.nateimg.co.kr/news90///news.nateimg.co.kr/orgImg/cb/2025/07/24/202507242307003993_0.jpg\" width=\"150\"/>"
      ],
      "text/plain": [
       "<IPython.core.display.Image object>"
      ]
     },
     "metadata": {},
     "output_type": "display_data"
    },
    {
     "name": "stdout",
     "output_type": "stream",
     "text": [
      "\n",
      "3. 기사 제목: SK하이닉스, HBM 타고 '최대 실적'…현대차는 '관세 직격탄'\n",
      "   기사 링크: https://news.nate.com/view/20250724n42593?mid=n0102\n",
      "   이미지 경로: https://thumbnews.nateimg.co.kr/news90///news.nateimg.co.kr/orgImg/ny/2025/07/24/403831_1753366171.jpg\n"
     ]
    },
    {
     "data": {
      "text/html": [
       "<img src=\"https://thumbnews.nateimg.co.kr/news90///news.nateimg.co.kr/orgImg/ny/2025/07/24/403831_1753366171.jpg\" width=\"150\"/>"
      ],
      "text/plain": [
       "<IPython.core.display.Image object>"
      ]
     },
     "metadata": {},
     "output_type": "display_data"
    },
    {
     "name": "stdout",
     "output_type": "stream",
     "text": [
      "\n",
      "4. 기사 제목: 미 관세에 현대차 수익성 '뚝'…SK하이닉스만 날았다\n",
      "   기사 링크: https://news.nate.com/view/20250724n42573?mid=n0102\n",
      "   이미지 경로: https://thumbnews.nateimg.co.kr/news90///news.nateimg.co.kr/orgImg/yn/2025/07/24/202507242232111979_t.jpg\n"
     ]
    },
    {
     "data": {
      "text/html": [
       "<img src=\"https://thumbnews.nateimg.co.kr/news90///news.nateimg.co.kr/orgImg/yn/2025/07/24/202507242232111979_t.jpg\" width=\"150\"/>"
      ],
      "text/plain": [
       "<IPython.core.display.Image object>"
      ]
     },
     "metadata": {},
     "output_type": "display_data"
    },
    {
     "name": "stdout",
     "output_type": "stream",
     "text": [
      "\n",
      "5. 기사 제목: 한미, 산업-상무장관 무역협상 예정대로 진행…2+2회의 무산 속 '주목'\n",
      "   기사 링크: https://news.nate.com/view/20250724n42364?mid=n0102\n",
      "   이미지 경로: https://thumbnews.nateimg.co.kr/news90///news.nateimg.co.kr/orgImg/cz/2025/07/24/cz_1753365664918_49702_0.jpg\n"
     ]
    },
    {
     "data": {
      "text/html": [
       "<img src=\"https://thumbnews.nateimg.co.kr/news90///news.nateimg.co.kr/orgImg/cz/2025/07/24/cz_1753365664918_49702_0.jpg\" width=\"150\"/>"
      ],
      "text/plain": [
       "<IPython.core.display.Image object>"
      ]
     },
     "metadata": {},
     "output_type": "display_data"
    },
    {
     "name": "stdout",
     "output_type": "stream",
     "text": [
      "\n",
      "--- 사회 뉴스 ---\n",
      "URL: https://news.nate.com/recent?mid=n0103\n",
      "\n",
      "1. 기사 제목: 안성 서운면 돼지농장 불…돈사 1개동 소실·인명피해 없어\n",
      "   기사 링크: https://news.nate.com/view/20250724n42643?mid=n0103\n",
      "   이미지 경로: https://thumbnews.nateimg.co.kr/news90///news.nateimg.co.kr/orgImg/na/2025/07/24/7412448_high.jpg\n"
     ]
    },
    {
     "data": {
      "text/html": [
       "<img src=\"https://thumbnews.nateimg.co.kr/news90///news.nateimg.co.kr/orgImg/na/2025/07/24/7412448_high.jpg\" width=\"150\"/>"
      ],
      "text/plain": [
       "<IPython.core.display.Image object>"
      ]
     },
     "metadata": {},
     "output_type": "display_data"
    },
    {
     "name": "stdout",
     "output_type": "stream",
     "text": [
      "\n",
      "2. 기사 제목: '천번의 낮밤' 지나도 못 밝힌 이태원의 그날…기억하려 모였다\n",
      "   기사 링크: https://news.nate.com/view/20250724n42132?mid=n0103\n",
      "   이미지 경로: https://thumbnews.nateimg.co.kr/news90///news.nateimg.co.kr/orgImg/hn/2025/07/24/53_17533637178466_20250724504344.jpg\n"
     ]
    },
    {
     "data": {
      "text/html": [
       "<img src=\"https://thumbnews.nateimg.co.kr/news90///news.nateimg.co.kr/orgImg/hn/2025/07/24/53_17533637178466_20250724504344.jpg\" width=\"150\"/>"
      ],
      "text/plain": [
       "<IPython.core.display.Image object>"
      ]
     },
     "metadata": {},
     "output_type": "display_data"
    },
    {
     "name": "stdout",
     "output_type": "stream",
     "text": [
      "\n",
      "3. 기사 제목: 사흘 만에 2천만 명 돌파…광주 '공무원 혹사' 논란\n",
      "   기사 링크: https://news.nate.com/view/20250724n42637?mid=n0103\n",
      "   이미지 경로: https://thumbnews.nateimg.co.kr/news90///news.nateimg.co.kr/orgImg/yn/2025/07/24/202507242254055437_t.jpg\n"
     ]
    },
    {
     "data": {
      "text/html": [
       "<img src=\"https://thumbnews.nateimg.co.kr/news90///news.nateimg.co.kr/orgImg/yn/2025/07/24/202507242254055437_t.jpg\" width=\"150\"/>"
      ],
      "text/plain": [
       "<IPython.core.display.Image object>"
      ]
     },
     "metadata": {},
     "output_type": "display_data"
    },
    {
     "name": "stdout",
     "output_type": "stream",
     "text": [
      "\n",
      "4. 기사 제목: \"소비쿠폰 싸게 팝니다\"…경찰, 불법거래 특별단속\n",
      "   기사 링크: https://news.nate.com/view/20250724n42636?mid=n0103\n",
      "   이미지 경로: https://thumbnews.nateimg.co.kr/news90///news.nateimg.co.kr/orgImg/yn/2025/07/24/202507242254139157_t.jpg\n"
     ]
    },
    {
     "data": {
      "text/html": [
       "<img src=\"https://thumbnews.nateimg.co.kr/news90///news.nateimg.co.kr/orgImg/yn/2025/07/24/202507242254139157_t.jpg\" width=\"150\"/>"
      ],
      "text/plain": [
       "<IPython.core.display.Image object>"
      ]
     },
     "metadata": {},
     "output_type": "display_data"
    },
    {
     "name": "stdout",
     "output_type": "stream",
     "text": [
      "\n",
      "5. 기사 제목: 교육부, 취소 뒤 하루만에 의대 교육 정상화 방안 발표\n",
      "   기사 링크: https://news.nate.com/view/20250724n42630?mid=n0103\n",
      "   이미지 없음\n",
      "\n",
      "--- 세계 뉴스 ---\n",
      "URL: https://news.nate.com/recent?mid=n0104\n",
      "\n",
      "1. 기사 제목: EU \"미국과 관세 합의 도달할 수 있다…결렬에도 대비\"\n",
      "   기사 링크: https://news.nate.com/view/20250724n42640?mid=n0104\n",
      "   이미지 경로: https://thumbnews.nateimg.co.kr/news90///news.nateimg.co.kr/orgImg/ns/2025/07/24/NISI20220719_0001044686_web.jpg\n"
     ]
    },
    {
     "data": {
      "text/html": [
       "<img src=\"https://thumbnews.nateimg.co.kr/news90///news.nateimg.co.kr/orgImg/ns/2025/07/24/NISI20220719_0001044686_web.jpg\" width=\"150\"/>"
      ],
      "text/plain": [
       "<IPython.core.display.Image object>"
      ]
     },
     "metadata": {},
     "output_type": "display_data"
    },
    {
     "name": "stdout",
     "output_type": "stream",
     "text": [
      "\n",
      "2. 기사 제목: 美상무 \"韓, 美日 무역합의 보고 욕했을 것…정말로 타결 원해\"(종합)\n",
      "   기사 링크: https://news.nate.com/view/20250724n42639?mid=n0104\n",
      "   이미지 경로: https://thumbnews.nateimg.co.kr/news90///news.nateimg.co.kr/orgImg/yt/2025/07/24/PAP20250716082701009_P2.jpg\n"
     ]
    },
    {
     "data": {
      "text/html": [
       "<img src=\"https://thumbnews.nateimg.co.kr/news90///news.nateimg.co.kr/orgImg/yt/2025/07/24/PAP20250716082701009_P2.jpg\" width=\"150\"/>"
      ],
      "text/plain": [
       "<IPython.core.display.Image object>"
      ]
     },
     "metadata": {},
     "output_type": "display_data"
    },
    {
     "name": "stdout",
     "output_type": "stream",
     "text": [
      "\n",
      "3. 기사 제목: [속보] 美상무장관 \"오늘 상무부서 한국과 무역협상\"\n",
      "   기사 링크: https://news.nate.com/view/20250724n42230?mid=n0104\n",
      "   이미지 경로: https://thumbnews.nateimg.co.kr/news90///news.nateimg.co.kr/orgImg/jo/2025/07/24/c0b3d019-25dc-475f-8d59-e64be7c19276.jpg\n"
     ]
    },
    {
     "data": {
      "text/html": [
       "<img src=\"https://thumbnews.nateimg.co.kr/news90///news.nateimg.co.kr/orgImg/jo/2025/07/24/c0b3d019-25dc-475f-8d59-e64be7c19276.jpg\" width=\"150\"/>"
      ],
      "text/plain": [
       "<IPython.core.display.Image object>"
      ]
     },
     "metadata": {},
     "output_type": "display_data"
    },
    {
     "name": "stdout",
     "output_type": "stream",
     "text": [
      "\n",
      "4. 기사 제목: 미 상무장관 \"오늘 한국과 무역협상\"\n",
      "   기사 링크: https://news.nate.com/view/20250724n42627?mid=n0104\n",
      "   이미지 경로: https://thumbnews.nateimg.co.kr/news90///news.nateimg.co.kr/orgImg/kh/2025/07/24/rcv.YNA.20250722.PRU20250722039601009_P1.jpg\n"
     ]
    },
    {
     "data": {
      "text/html": [
       "<img src=\"https://thumbnews.nateimg.co.kr/news90///news.nateimg.co.kr/orgImg/kh/2025/07/24/rcv.YNA.20250722.PRU20250722039601009_P1.jpg\" width=\"150\"/>"
      ],
      "text/plain": [
       "<IPython.core.display.Image object>"
      ]
     },
     "metadata": {},
     "output_type": "display_data"
    },
    {
     "name": "stdout",
     "output_type": "stream",
     "text": [
      "\n",
      "5. 기사 제목: 시위에 놀랐나…젤렌스키, 반부패기관 독립 보장 새법안 승인\n",
      "   기사 링크: https://news.nate.com/view/20250724n42447?mid=n0104\n",
      "   이미지 경로: https://thumbnews.nateimg.co.kr/news90///news.nateimg.co.kr/orgImg/yt/2025/07/24/AKR20250724187000099_02_i.jpg\n"
     ]
    },
    {
     "data": {
      "text/html": [
       "<img src=\"https://thumbnews.nateimg.co.kr/news90///news.nateimg.co.kr/orgImg/yt/2025/07/24/AKR20250724187000099_02_i.jpg\" width=\"150\"/>"
      ],
      "text/plain": [
       "<IPython.core.display.Image object>"
      ]
     },
     "metadata": {},
     "output_type": "display_data"
    },
    {
     "name": "stdout",
     "output_type": "stream",
     "text": [
      "\n",
      "--- IT/과학 뉴스 ---\n",
      "URL: https://news.nate.com/recent?mid=n0105\n",
      "\n",
      "1. 기사 제목: 위고비도 신세계였는데 이번엔…\"한 달 뒤 끝판왕 온다\" 들썩\n",
      "   기사 링크: https://news.nate.com/view/20250724n35340?mid=n0105\n",
      "   이미지 경로: https://thumbnews.nateimg.co.kr/news90///news.nateimg.co.kr/orgImg/hk/2025/07/24/AA.41214182.4.jpg\n"
     ]
    },
    {
     "data": {
      "text/html": [
       "<img src=\"https://thumbnews.nateimg.co.kr/news90///news.nateimg.co.kr/orgImg/hk/2025/07/24/AA.41214182.4.jpg\" width=\"150\"/>"
      ],
      "text/plain": [
       "<IPython.core.display.Image object>"
      ]
     },
     "metadata": {},
     "output_type": "display_data"
    },
    {
     "name": "stdout",
     "output_type": "stream",
     "text": [
      "\n",
      "2. 기사 제목: 크래프톤, '인수 대박'이 '3447억 소송 대란'으로…M&A 후폭풍 맞나\n",
      "   기사 링크: https://news.nate.com/view/20250724n42325?mid=n0105\n",
      "   이미지 경로: https://thumbnews.nateimg.co.kr/news90///news.nateimg.co.kr/orgImg/ee/2025/07/24/20250724224438520587.jpg\n"
     ]
    },
    {
     "data": {
      "text/html": [
       "<img src=\"https://thumbnews.nateimg.co.kr/news90///news.nateimg.co.kr/orgImg/ee/2025/07/24/20250724224438520587.jpg\" width=\"150\"/>"
      ],
      "text/plain": [
       "<IPython.core.display.Image object>"
      ]
     },
     "metadata": {},
     "output_type": "display_data"
    },
    {
     "name": "stdout",
     "output_type": "stream",
     "text": [
      "\n",
      "3. 기사 제목: 카톡·쿠팡 쓰면 내 정보는 어디까지…정부, 슈퍼앱 개인정보 침해에 '칼' 댔다\n",
      "   기사 링크: https://news.nate.com/view/20250724n42234?mid=n0105\n",
      "   이미지 경로: https://thumbnews.nateimg.co.kr/news90///news.nateimg.co.kr/orgImg/ee/2025/07/24/20250724223716106226.jpg\n"
     ]
    },
    {
     "data": {
      "text/html": [
       "<img src=\"https://thumbnews.nateimg.co.kr/news90///news.nateimg.co.kr/orgImg/ee/2025/07/24/20250724223716106226.jpg\" width=\"150\"/>"
      ],
      "text/plain": [
       "<IPython.core.display.Image object>"
      ]
     },
     "metadata": {},
     "output_type": "display_data"
    },
    {
     "name": "stdout",
     "output_type": "stream",
     "text": [
      "\n",
      "4. 기사 제목: 한컴, 사상 첫 파업…'역대급 실적'인데 한컴 직원들 뿔나게 한 '자회사 역차별' 논란\n",
      "   기사 링크: https://news.nate.com/view/20250724n42021?mid=n0105\n",
      "   이미지 경로: https://thumbnews.nateimg.co.kr/news90///news.nateimg.co.kr/orgImg/ee/2025/07/24/20250724222053723807.png\n"
     ]
    },
    {
     "data": {
      "text/html": [
       "<img src=\"https://thumbnews.nateimg.co.kr/news90///news.nateimg.co.kr/orgImg/ee/2025/07/24/20250724222053723807.png\" width=\"150\"/>"
      ],
      "text/plain": [
       "<IPython.core.display.Image object>"
      ]
     },
     "metadata": {},
     "output_type": "display_data"
    },
    {
     "name": "stdout",
     "output_type": "stream",
     "text": [
      "\n",
      "5. 기사 제목: AI 주권의 첫 시험대, '뉴스는 공짜가 아니다' 뉴스저작권의 가치를 묻다\n",
      "   기사 링크: https://news.nate.com/view/20250724n37188?mid=n0105\n",
      "   이미지 경로: https://thumbnews.nateimg.co.kr/news90///news.nateimg.co.kr/orgImg/ee/2025/07/24/20250724182312696729.jpg\n"
     ]
    },
    {
     "data": {
      "text/html": [
       "<img src=\"https://thumbnews.nateimg.co.kr/news90///news.nateimg.co.kr/orgImg/ee/2025/07/24/20250724182312696729.jpg\" width=\"150\"/>"
      ],
      "text/plain": [
       "<IPython.core.display.Image object>"
      ]
     },
     "metadata": {},
     "output_type": "display_data"
    }
   ],
   "source": [
    "import requests\n",
    "from bs4 import BeautifulSoup\n",
    "from urllib.parse import urljoin\n",
    "\n",
    "# ✅ Nate 뉴스 섹션 URL\n",
    "section_urls = {\n",
    "    '최신뉴스': 'https://news.nate.com/recent?mid=n0100',\n",
    "    '정치': 'https://news.nate.com/recent?mid=n0101',\n",
    "    '경제': 'https://news.nate.com/recent?mid=n0102',\n",
    "    '사회': 'https://news.nate.com/recent?mid=n0103',\n",
    "    '세계': 'https://news.nate.com/recent?mid=n0104',\n",
    "    'IT/과학': 'https://news.nate.com/recent?mid=n0105'\n",
    "}\n",
    "\n",
    "def scrape_nate_news(section_name, limit=5):\n",
    "    \"\"\"Nate 뉴스 스크래핑: 제목, 링크, 이미지 출력\"\"\"\n",
    "    if section_name not in section_urls:\n",
    "        print(f\"'{section_name}' 섹션이 존재하지 않습니다.\")\n",
    "        return\n",
    "\n",
    "    url = section_urls[section_name]\n",
    "    print(f\"\\n--- {section_name} 뉴스 ---\")\n",
    "    print(f\"URL: {url}\")\n",
    "\n",
    "    headers = {\"User-Agent\": \"Mozilla/5.0\"}\n",
    "    try:\n",
    "        res = requests.get(url, headers=headers)\n",
    "        res.raise_for_status()\n",
    "    except requests.exceptions.RequestException as e:\n",
    "        print(f\"Error fetching URL: {e}\")\n",
    "        return\n",
    "\n",
    "    soup = BeautifulSoup(res.text, \"html.parser\")\n",
    "\n",
    "    # ✅ 섹션별 HTML 구조 확인 → 뉴스 항목 선택\n",
    "    news_items = soup.select('div.mduSubjectList')\n",
    "\n",
    "    if not news_items:\n",
    "        print(\"뉴스 기사를 찾을 수 없습니다. HTML 구조 확인 필요.\")\n",
    "        return\n",
    "\n",
    "    for idx, item in enumerate(news_items[:limit], 1):\n",
    "        # ✅ 제목\n",
    "        title_tag = item.select_one('h2.tit') or item.select_one('a.lt1')\n",
    "        title = title_tag.text.strip() if title_tag else \"제목 없음\"\n",
    "\n",
    "        # ✅ 링크\n",
    "        link_tag = item.select_one('a[href]')\n",
    "        link = urljoin(url, link_tag['href']) if link_tag else \"링크 없음\"\n",
    "\n",
    "        # ✅ 이미지\n",
    "        img_tag = item.select_one('img')\n",
    "        img_src = urljoin(url, img_tag['src']) if img_tag and img_tag.has_attr('src') else None\n",
    "\n",
    "        # ✅ 출력\n",
    "        print(f\"\\n{idx}. 기사 제목: {title}\")\n",
    "        print(f\"   기사 링크: {link}\")\n",
    "        if img_src:\n",
    "            print(f\"   이미지 경로: {img_src}\")\n",
    "            display(Image(url=img_src, width=150))\n",
    "        else:\n",
    "            print(\"   이미지 없음\")\n",
    "\n",
    "# ✅ 전체 섹션 실행\n",
    "for section in section_urls.keys():\n",
    "    scrape_nate_news(section)\n",
    "\n"
   ]
  },
  {
   "cell_type": "code",
   "execution_count": null,
   "id": "8a22e318",
   "metadata": {},
   "outputs": [
    {
     "name": "stdout",
     "output_type": "stream",
     "text": [
      "'img\\일렉시드\\341' 디렉토리에 이미지를 저장합니다.\n",
      "88번째 이미지 다운로드 중...\n",
      "총 88개의 이미지를 성공적으로 다운로드했습니다.\n",
      "\n",
      "download_one_episode('일렉시드', 341, 'https://comic.naver.com/webtoon/detail?titleId=717481&no=341&week=wed')\n"
     ]
    }
   ],
   "source": [
    "import os\n",
    "import requests\n",
    "from bs4 import BeautifulSoup\n",
    "\n",
    "def download_one_episode(title, no, url):\n",
    "    \"\"\"\n",
    "    네이버 웹툰의 특정 회차 이미지를 다운로드하는 함수\n",
    "    :param title: 웹툰 제목\n",
    "    :param no: 회차 번호\n",
    "    :param url: 회차 URL\n",
    "    \"\"\"\n",
    "    save_dir = os.path.join('img', title, str(no))\n",
    "    os.makedirs(save_dir, exist_ok=True)\n",
    "    print(f\"'{save_dir}' 디렉토리에 이미지를 저장합니다.\")\n",
    "\n",
    "    try:\n",
    "        headers = {\n",
    "            'User-Agent': 'Mozilla/5.0 (Windows NT 10.0; Win64; x64) AppleWebKit/537.36 (KHTML, like Gecko) Chrome/91.0.4472.124 Safari/537.36',\n",
    "            'Referer': url\n",
    "        }\n",
    "        \n",
    "        response = requests.get(url, headers=headers)\n",
    "        response.raise_for_status()\n",
    "        \n",
    "        soup = BeautifulSoup(response.text, 'html.parser')\n",
    "        \n",
    "        image_area = soup.select_one('div.wt_viewer')\n",
    "        if not image_area:\n",
    "            print(\"웹툰 이미지 영역을 찾을 수 없습니다.\")\n",
    "            return\n",
    "\n",
    "        img_tags = image_area.find_all('img')\n",
    "        \n",
    "        for i, img_tag in enumerate(img_tags):\n",
    "            if 'src' in img_tag.attrs:\n",
    "                img_url = img_tag['src']\n",
    "                \n",
    "                print(f\"{i+1}번째 이미지 다운로드 중...\", end='\\r')\n",
    "                img_response = requests.get(img_url, headers=headers)\n",
    "                img_response.raise_for_status()\n",
    "\n",
    "                file_name = f\"{i+1:03d}.jpg\"\n",
    "                file_path = os.path.join(save_dir, file_name)\n",
    "                \n",
    "                with open(file_path, 'wb') as f:\n",
    "                    f.write(img_response.content)\n",
    "        \n",
    "        print(f\"\\n총 {len(img_tags)}개의 이미지를 성공적으로 다운로드했습니다.\")\n",
    "\n",
    "    except requests.exceptions.RequestException as e:\n",
    "        print(f\"HTTP 요청 오류 발생: {e}\")\n",
    "    except Exception as e:\n",
    "        print(f\"오류 발생: {e}\")\n",
    "\n",
    "webtoon_title = '일렉시드'\n",
    "episode_no = 341\n",
    "episode_url = 'https://comic.naver.com/webtoon/detail?titleId=717481&no=341&week=wed'\n",
    "\n",
    "download_one_episode(webtoon_title, episode_no, episode_url)\n",
    "\n",
    "result_value = f\"download_one_episode('{webtoon_title}', {episode_no}, '{episode_url}')\"\n",
    "print(f\"\\n{result_value}\")"
   ]
  }
 ],
 "metadata": {
  "kernelspec": {
   "display_name": "base",
   "language": "python",
   "name": "python3"
  },
  "language_info": {
   "codemirror_mode": {
    "name": "ipython",
    "version": 3
   },
   "file_extension": ".py",
   "mimetype": "text/x-python",
   "name": "python",
   "nbconvert_exporter": "python",
   "pygments_lexer": "ipython3",
   "version": "3.12.7"
  }
 },
 "nbformat": 4,
 "nbformat_minor": 5
}
